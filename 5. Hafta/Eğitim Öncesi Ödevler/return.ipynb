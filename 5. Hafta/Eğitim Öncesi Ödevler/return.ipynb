{
 "cells": [
  {
   "cell_type": "markdown",
   "metadata": {},
   "source": [
    "# <center> return"
   ]
  },
  {
   "cell_type": "markdown",
   "metadata": {},
   "source": [
    "- return:"
   ]
  },
  {
   "cell_type": "code",
   "execution_count": 9,
   "metadata": {},
   "outputs": [
    {
     "name": "stdout",
     "output_type": "stream",
     "text": [
      "25.0\n",
      "3.0\n"
     ]
    },
    {
     "data": {
      "text/plain": [
       "25.0"
      ]
     },
     "execution_count": 9,
     "metadata": {},
     "output_type": "execute_result"
    }
   ],
   "source": [
    "def perpendicularTriangle(a, b):\n",
    "    return (a * b) / 2\n",
    "area = perpendicularTriangle(5,10)\n",
    "\n",
    "print(area)\n",
    "print(perpendicularTriangle(2,3))\n",
    "perpendicularTriangle(5,10)"
   ]
  },
  {
   "cell_type": "markdown",
   "metadata": {},
   "source": [
    "- *args: <br>\n",
    "sınrsız parametre <br>\n",
    "isimsiz argüman\n",
    "\n",
    "(kolay liste yapmayı sağlıyor)"
   ]
  },
  {
   "cell_type": "code",
   "execution_count": 10,
   "metadata": {},
   "outputs": [
    {
     "name": "stdout",
     "output_type": "stream",
     "text": [
      "(2,)\n",
      "(2, 4, 6)\n",
      "(1, 2, 3, 4, 5, 6, 7, 8, 9, 10)\n"
     ]
    }
   ],
   "source": [
    "def numbers(*x):\n",
    "    print(x)\n",
    "\n",
    "numbers(2)\n",
    "numbers(2,4,6)\n",
    "numbers(1,2,3,4,5,6,7,8,9,10)"
   ]
  },
  {
   "cell_type": "code",
   "execution_count": 13,
   "metadata": {},
   "outputs": [
    {
     "name": "stdout",
     "output_type": "stream",
     "text": [
      "6\n"
     ]
    }
   ],
   "source": [
    "def s(*x):\n",
    "    mySum = 0\n",
    "    for i in x:\n",
    "        mySum += i\n",
    "    print(mySum)\n",
    "\n",
    "s(1,2,3)"
   ]
  },
  {
   "cell_type": "code",
   "execution_count": 15,
   "metadata": {},
   "outputs": [
    {
     "ename": "TypeError",
     "evalue": "s() takes 1 positional argument but 3 were given",
     "output_type": "error",
     "traceback": [
      "\u001b[0;31m---------------------------------------------------------------------------\u001b[0m",
      "\u001b[0;31mTypeError\u001b[0m                                 Traceback (most recent call last)",
      "Cell \u001b[0;32mIn[15], line 7\u001b[0m\n\u001b[1;32m      4\u001b[0m         mySum \u001b[38;5;241m+\u001b[39m\u001b[38;5;241m=\u001b[39m i\n\u001b[1;32m      5\u001b[0m     \u001b[38;5;28mprint\u001b[39m(mySum)\n\u001b[0;32m----> 7\u001b[0m \u001b[43ms\u001b[49m\u001b[43m(\u001b[49m\u001b[38;5;241;43m1\u001b[39;49m\u001b[43m,\u001b[49m\u001b[38;5;241;43m2\u001b[39;49m\u001b[43m,\u001b[49m\u001b[38;5;241;43m3\u001b[39;49m\u001b[43m)\u001b[49m\n",
      "\u001b[0;31mTypeError\u001b[0m: s() takes 1 positional argument but 3 were given"
     ]
    }
   ],
   "source": [
    "def s(x): # without asterisk com gives us failure\n",
    "    mySum = 0\n",
    "    for i in x:\n",
    "        mySum += i\n",
    "    print(mySum)\n",
    "\n",
    "s(1,2,3)"
   ]
  },
  {
   "cell_type": "markdown",
   "metadata": {},
   "source": [
    "- **kwargs: <br>\n",
    "anahtar değer ile çağrılır <br>\n",
    "isimli argüman\n",
    "\n",
    "(sözlüğe döünştürmeyi sağlıyor)"
   ]
  },
  {
   "cell_type": "code",
   "execution_count": 17,
   "metadata": {},
   "outputs": [
    {
     "name": "stdout",
     "output_type": "stream",
     "text": [
      "{'firstName': 'Lily', 'lastName': 'Bird', 'age': 40}\n"
     ]
    }
   ],
   "source": [
    "def showLicense(**license):\n",
    "    print(license)\n",
    "\n",
    "showLicense(firstName = \"Lily\", lastName = \"Bird\", age = 40)"
   ]
  },
  {
   "cell_type": "code",
   "execution_count": 18,
   "metadata": {},
   "outputs": [
    {
     "name": "stdout",
     "output_type": "stream",
     "text": [
      "10\n",
      "(20, 30, 40)\n",
      "6\n",
      "{'firstName': 'Lily', 'lastName': 'Bird', 'age': 40}\n"
     ]
    }
   ],
   "source": [
    "def ex(a,*numbers,b,**license):\n",
    "    print(a)\n",
    "    print(numbers)\n",
    "    print(b)\n",
    "    print(license)\n",
    "\n",
    "ex(10,20,30,40, b= 6, firstName = \"Lily\", lastName = \"Bird\", age = 40)"
   ]
  },
  {
   "cell_type": "markdown",
   "metadata": {},
   "source": [
    "- pass deyimi:\n",
    "\n",
    "daha sonra düzenlemek üzere henüz tamamlanmamış fonksiyonun hata vermemesi için kullanılabiecek bir fonksiyon\n",
    "\n",
    "sen takma python, ben sonra bakacam fonksiyonu"
   ]
  },
  {
   "cell_type": "markdown",
   "metadata": {},
   "source": []
  },
  {
   "cell_type": "code",
   "execution_count": 28,
   "metadata": {},
   "outputs": [],
   "source": [
    "def mult(*abc):\n",
    "    for num2 in abc:\n",
    "        pass\n",
    "mult(2,5)\n",
    "# anwer is not error because of pass"
   ]
  }
 ],
 "metadata": {
  "kernelspec": {
   "display_name": "Python 3",
   "language": "python",
   "name": "python3"
  },
  "language_info": {
   "codemirror_mode": {
    "name": "ipython",
    "version": 3
   },
   "file_extension": ".py",
   "mimetype": "text/x-python",
   "name": "python",
   "nbconvert_exporter": "python",
   "pygments_lexer": "ipython3",
   "version": "3.12.4"
  }
 },
 "nbformat": 4,
 "nbformat_minor": 2
}
