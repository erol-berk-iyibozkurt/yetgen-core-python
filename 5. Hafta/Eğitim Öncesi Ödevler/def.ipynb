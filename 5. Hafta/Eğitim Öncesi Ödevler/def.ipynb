{
 "cells": [
  {
   "cell_type": "markdown",
   "metadata": {},
   "source": [
    "# <center> Functions / Fonksiyonlar\n",
    "\n",
    "- The essential of the proagramming: <br>\n",
    "DRY = Don't Repeat Yourself\n",
    "\n",
    "for repatative functions \"def\" is preferable"
   ]
  },
  {
   "cell_type": "code",
   "execution_count": null,
   "metadata": {},
   "outputs": [],
   "source": [
    "def function_name(paramater1, parameter2, parameter3):\n",
    "    print(\"Hello\")"
   ]
  },
  {
   "cell_type": "code",
   "execution_count": 1,
   "metadata": {},
   "outputs": [
    {
     "name": "stdout",
     "output_type": "stream",
     "text": [
      "Hi!\n"
     ]
    }
   ],
   "source": [
    "def welcome():\n",
    "    print(\"Hi!\")\n",
    "\n",
    "welcome()"
   ]
  },
  {
   "cell_type": "markdown",
   "metadata": {},
   "source": [
    "- Parameter / argüman, parametre: <br>"
   ]
  },
  {
   "cell_type": "code",
   "execution_count": 8,
   "metadata": {},
   "outputs": [
    {
     "name": "stdout",
     "output_type": "stream",
     "text": [
      "Hello,John Miller!\n",
      "Hello,Erhan Erkut!\n",
      "Hello,Jack Miller!\n"
     ]
    }
   ],
   "source": [
    "def name(firstName = \"John\", lastName = \"Miller\"):\n",
    "    print(f\"Hello,{firstName} {lastName}!\")\n",
    "\n",
    "name()\n",
    "name(\"Erhan\",\"Erkut\")\n",
    "name(\"Jack\")"
   ]
  },
  {
   "cell_type": "code",
   "execution_count": 7,
   "metadata": {},
   "outputs": [
    {
     "name": "stdout",
     "output_type": "stream",
     "text": [
      "6\n"
     ]
    }
   ],
   "source": [
    "def s(num1,num2,num3):\n",
    "    s = num1 + num2 + num3\n",
    "    print(s)\n",
    "\n",
    "s(1,2,3)"
   ]
  },
  {
   "cell_type": "code",
   "execution_count": 9,
   "metadata": {},
   "outputs": [
    {
     "name": "stdout",
     "output_type": "stream",
     "text": [
      "1\n",
      "2\n",
      "10\n",
      "20\n",
      "6\n",
      "8\n",
      "120\n"
     ]
    }
   ],
   "source": [
    "def m(num1 = 1, num2 = 1, num3 = 1):\n",
    "    mul = num1 * num2 * num3\n",
    "    print(mul)\n",
    "\n",
    "m()\n",
    "m(2)\n",
    "m(2,5)\n",
    "m(2,5,2)\n",
    "m(1,2,3)\n",
    "m(2,2,2)\n",
    "m(4,5,6)"
   ]
  },
  {
   "cell_type": "code",
   "execution_count": 11,
   "metadata": {},
   "outputs": [
    {
     "name": "stdout",
     "output_type": "stream",
     "text": [
      "Hallo\n",
      "Hola\n",
      "Bonjour\n",
      "Kalimera\n",
      "Hello\n"
     ]
    }
   ],
   "source": [
    "def hello(language):\n",
    "    if language == \"de\":\n",
    "        print(\"Hallo\")\n",
    "    elif language == \"fr\":\n",
    "        print(\"Bonjour\")\n",
    "    elif language == \"gr\":\n",
    "        print(\"Kalimera\")\n",
    "    elif language == \"es\":\n",
    "        print(\"Hola\")\n",
    "    else:\n",
    "        print(\"Hello\")\n",
    "\n",
    "hello(\"de\")\n",
    "hello(\"es\")\n",
    "hello(\"fr\")\n",
    "hello(\"gr\")\n",
    "hello(\"kr\")"
   ]
  }
 ],
 "metadata": {
  "kernelspec": {
   "display_name": "Python 3",
   "language": "python",
   "name": "python3"
  },
  "language_info": {
   "codemirror_mode": {
    "name": "ipython",
    "version": 3
   },
   "file_extension": ".py",
   "mimetype": "text/x-python",
   "name": "python",
   "nbconvert_exporter": "python",
   "pygments_lexer": "ipython3",
   "version": "3.12.4"
  }
 },
 "nbformat": 4,
 "nbformat_minor": 2
}
