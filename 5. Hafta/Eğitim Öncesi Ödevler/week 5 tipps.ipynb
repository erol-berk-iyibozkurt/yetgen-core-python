{
 "cells": [
  {
   "cell_type": "code",
   "execution_count": null,
   "metadata": {},
   "outputs": [],
   "source": []
  },
  {
   "cell_type": "markdown",
   "metadata": {},
   "source": [
    "### Bubble Sort"
   ]
  },
  {
   "cell_type": "code",
   "execution_count": null,
   "metadata": {},
   "outputs": [],
   "source": [
    "# Bubble sort in Python\n",
    "\n",
    "def bubbleSort(array):\n",
    "    \n",
    "  # loop to access each array element\n",
    "  for i in range(len(array)):\n",
    "\n",
    "    # loop to compare array elements\n",
    "    for j in range(0, len(array) - i - 1):\n",
    "\n",
    "      # compare two adjacent elements\n",
    "      # change > to < to sort in descending order\n",
    "      if array[j] > array[j + 1]:\n",
    "\n",
    "        # swapping elements if elements\n",
    "        # are not in the intended order\n",
    "        temp = array[j]\n",
    "        array[j] = array[j+1]\n",
    "        array[j+1] = temp\n",
    "\n",
    "\n",
    "data = [-2, 45, 0, 11, -9]\n",
    "\n",
    "bubbleSort(data)\n",
    "\n",
    "print('Sorted Array in Ascending Order:')\n",
    "print(data)"
   ]
  }
 ],
 "metadata": {
  "language_info": {
   "name": "python"
  }
 },
 "nbformat": 4,
 "nbformat_minor": 2
}
