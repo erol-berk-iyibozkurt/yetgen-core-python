{
 "cells": [
  {
   "cell_type": "markdown",
   "metadata": {},
   "source": [
    "# <center> CABO Card Game"
   ]
  },
  {
   "cell_type": "markdown",
   "metadata": {},
   "source": [
    "The cards: <br>\n",
    "quantity / card types / speciality of the card\n",
    "- 2 x 0\n",
    "- 4 x 1\n",
    "- 4 x 2\n",
    "- 4 x 3\n",
    "- 4 x 4\n",
    "- 4 x 5\n",
    "- 4 x 6\n",
    "- 4 x 7 # Peek\n",
    "- 4 x 8 # Peek\n",
    "- 4 x 9\n",
    "- 4 x 10\n",
    "- 4 x 11 #Swap\n",
    "- 4 x 12 #Swap\n",
    "- 2 x 13\n",
    "\n",
    "The goal and game endings:\n",
    "\n",
    "\n",
    "The rules:\n"
   ]
  },
  {
   "cell_type": "code",
   "execution_count": null,
   "metadata": {},
   "outputs": [],
   "source": []
  }
 ],
 "metadata": {
  "language_info": {
   "name": "python"
  }
 },
 "nbformat": 4,
 "nbformat_minor": 2
}
