{
 "cells": [
  {
   "cell_type": "markdown",
   "metadata": {},
   "source": []
  },
  {
   "cell_type": "markdown",
   "metadata": {},
   "source": [
    "## Methods:"
   ]
  },
  {
   "cell_type": "code",
   "execution_count": 2,
   "metadata": {},
   "outputs": [],
   "source": [
    "class Programmer():\n",
    "    def __init__(self,name,surname , number, salary, language):\n",
    "        self.name = name\n",
    "        self.surname = surname\n",
    "        self.number = number\n",
    "        self.salary = salary\n",
    "        self.language = language\n",
    "    \n",
    "    def show_info(self):\n",
    "        print(f\"\"\"\n",
    "        Work infos:\n",
    "        -> Name: {self.name}\n",
    "        -> Surname: {self.surname}\n",
    "        -> Number: {self.number}\n",
    "        -> Salary: {self.salary}\n",
    "        -> Language: {self.language}\n",
    "        \"\"\")\n",
    "    \n",
    "    def add_language(self,new_language):\n",
    "        print(\"The language is adding to the list of language...\")\n",
    "        self.language.append(new_language)\n",
    "\n",
    "    def increase_salary(self,increase_amount):\n",
    "        print(\"The new increase of the salary is adding to the system...\")\n",
    "        self.salary += increase_amount"
   ]
  },
  {
   "cell_type": "code",
   "execution_count": 3,
   "metadata": {},
   "outputs": [],
   "source": [
    "coder = Programmer(\"Sam\",\"Altman\",51001001001, 1000000,[\"python\",\"php\",\"Flutter\"])"
   ]
  },
  {
   "cell_type": "code",
   "execution_count": 4,
   "metadata": {},
   "outputs": [
    {
     "name": "stdout",
     "output_type": "stream",
     "text": [
      "\n",
      "        Work infos:\n",
      "        -> name: Sam\n",
      "        -> surname: Altman\n",
      "        -> number: 51001001001\n",
      "        -> salary: 1000000\n",
      "        -> language: ['python', 'php', 'Flutter']\n",
      "        \n"
     ]
    }
   ],
   "source": [
    "coder.show_info()"
   ]
  },
  {
   "cell_type": "code",
   "execution_count": 11,
   "metadata": {},
   "outputs": [
    {
     "name": "stdout",
     "output_type": "stream",
     "text": [
      "The new increase of the salary is adding to the system...\n",
      "\n",
      "        Work infos:\n",
      "        -> name: Sam\n",
      "        -> surname: Altman\n",
      "        -> number: 51001001001\n",
      "        -> salary: 1000100\n",
      "        -> language: ['python', 'php', 'Flutter']\n",
      "        \n"
     ]
    }
   ],
   "source": [
    "coder.increase_salary(100)\n",
    "coder.show_info()"
   ]
  }
 ],
 "metadata": {
  "kernelspec": {
   "display_name": "Python 3",
   "language": "python",
   "name": "python3"
  },
  "language_info": {
   "codemirror_mode": {
    "name": "ipython",
    "version": 3
   },
   "file_extension": ".py",
   "mimetype": "text/x-python",
   "name": "python",
   "nbconvert_exporter": "python",
   "pygments_lexer": "ipython3",
   "version": "3.12.4"
  }
 },
 "nbformat": 4,
 "nbformat_minor": 2
}
