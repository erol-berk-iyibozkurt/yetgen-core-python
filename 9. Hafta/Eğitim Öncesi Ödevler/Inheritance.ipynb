{
 "cells": [
  {
   "cell_type": "markdown",
   "metadata": {},
   "source": [
    "# <center> Inheritance"
   ]
  },
  {
   "cell_type": "markdown",
   "metadata": {},
   "source": [
    "### super():\n",
    "- super() fonksiyonu, nesne yönelimli programlamada önemli bir rol oynar. Bu fonksiyon, bir alt sınıfın üst sınıfının metodlarına erişmesini sağlar. İşte super()'in temel kullanımı ve anlamı:\n",
    "\n",
    "Miras alma (Inheritance): Bir sınıf başka bir sınıftan miras aldığında, super() üst sınıfın özelliklerine ve metodlarına erişmek için kullanılır. <br>\n",
    "--- <br>\n",
    "Metod Çağırma: Özellikle, alt sınıfta üst sınıfın metodlarını çağırmak veya genişletmek istediğinizde kullanılır. <br>\n",
    "--- <br>\n",
    "Yapıcı Metod (Constructor) Çağırma: Alt sınıfın yapıcı metodunda üst sınıfın yapıcı metodunu çağırmak için sıkça kullanılır."
   ]
  },
  {
   "cell_type": "code",
   "execution_count": 10,
   "metadata": {},
   "outputs": [],
   "source": [
    "class Person:\n",
    "    def __init__(self, name, surname, age):\n",
    "        self.name = name\n",
    "        self.surname = surname\n",
    "        self.age = age\n",
    "        print(\"The item 'Person' has been created...\")\n",
    "\n",
    "    def intro(self):\n",
    "        print(self.name, self.surname, self.age)\n",
    "\n",
    "class Student(Person):\n",
    "    def __init__(self, name, surname, age, number):\n",
    "        super().__init__(name, surname, age)\n",
    "        self.number = number\n",
    "        print(\"The item 'Student' is working...\")\n",
    "\n",
    "    def intro(self):\n",
    "        print(self.name, self.surname, self.age, self.number)\n",
    "\n",
    "    def study(self):\n",
    "        print(f\"The student who the number {self.number} is studying...\")\n",
    "\n",
    "class Teacher(Person):\n",
    "    def __init__(self,name, surname, age, branch):\n",
    "        super().__init__(name, surname, age)\n",
    "        self.branch = branch\n",
    "        print(\"The item 'Teacher' is working...\")\n",
    "    \n",
    "    def teach(self):\n",
    "        print(f\"The teacher who name {self.name} and at the branch of {self.branch} is teaching...\")\n"
   ]
  },
  {
   "cell_type": "code",
   "execution_count": 5,
   "metadata": {},
   "outputs": [
    {
     "name": "stdout",
     "output_type": "stream",
     "text": [
      "The item 'Person' has been created...\n"
     ]
    }
   ],
   "source": [
    "p1 = Person(\"Billy\", \"Hanz\", 25)"
   ]
  },
  {
   "cell_type": "code",
   "execution_count": 11,
   "metadata": {},
   "outputs": [
    {
     "name": "stdout",
     "output_type": "stream",
     "text": [
      "The item 'Person' has been created...\n",
      "The item 'Student' is working...\n",
      "Max Mustermann 20 1001\n",
      "The student who the number 1001 is studying...\n"
     ]
    }
   ],
   "source": [
    "s1 = Student(\"Max\",\"Mustermann\", 20, 1001)\n",
    "s1.intro()\n",
    "s1.study()"
   ]
  },
  {
   "cell_type": "code",
   "execution_count": 13,
   "metadata": {},
   "outputs": [
    {
     "name": "stdout",
     "output_type": "stream",
     "text": [
      "The item 'Person' has been created...\n",
      "The item 'Teacher' is working...\n",
      "Christian Lehrer 35\n",
      "The teacher who name Christian and at the branch of Statistics is teaching...\n"
     ]
    }
   ],
   "source": [
    "t1 = Teacher(\"Christian\",\"Lehrer\", 35, \"Statistics\")\n",
    "t1.intro()\n",
    "t1.teach()"
   ]
  }
 ],
 "metadata": {
  "kernelspec": {
   "display_name": "Python 3",
   "language": "python",
   "name": "python3"
  },
  "language_info": {
   "codemirror_mode": {
    "name": "ipython",
    "version": 3
   },
   "file_extension": ".py",
   "mimetype": "text/x-python",
   "name": "python",
   "nbconvert_exporter": "python",
   "pygments_lexer": "ipython3",
   "version": "3.12.4"
  }
 },
 "nbformat": 4,
 "nbformat_minor": 2
}
