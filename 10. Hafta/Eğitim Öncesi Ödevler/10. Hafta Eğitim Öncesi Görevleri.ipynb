{
 "cells": [
  {
   "attachments": {},
   "cell_type": "markdown",
   "metadata": {},
   "source": [
    "# Problem 1"
   ]
  },
  {
   "cell_type": "code",
   "execution_count": 7,
   "metadata": {},
   "outputs": [
    {
     "name": "stdout",
     "output_type": "stream",
     "text": [
      "[ 0.   2.5  5.   7.5 10. ]\n",
      "(5,)\n"
     ]
    },
    {
     "data": {
      "text/plain": [
       "1"
      ]
     },
     "execution_count": 7,
     "metadata": {},
     "output_type": "execute_result"
    }
   ],
   "source": [
    "# 1 - numpy kütüphanesini import edin\n",
    "import numpy as np\n",
    "# 2 - 0 ile 10 arasında 5 sayıdan oluşan matris üretin\n",
    "a = np.linspace(0,10,5)\n",
    "print(a)\n",
    "# 3 - matris'in boyutunu öğrenin\n",
    "print(a.shape)\n",
    "# 4 - matris'i yeniden boyutlandırın\n",
    "a.reshape(5,1)\n",
    "# 5 - matris'in boyut sayısını öğrenin\n",
    "a.ndim"
   ]
  },
  {
   "attachments": {},
   "cell_type": "markdown",
   "metadata": {},
   "source": [
    "# Problem 2"
   ]
  },
  {
   "cell_type": "code",
   "execution_count": 13,
   "metadata": {},
   "outputs": [
    {
     "name": "stdout",
     "output_type": "stream",
     "text": [
      "[1 3 5 7 9]\n",
      "[1 3] [5 7 9]\n",
      "[1 3 5 7 9]\n"
     ]
    },
    {
     "data": {
      "text/plain": [
       "array([ True,  True,  True,  True,  True])"
      ]
     },
     "execution_count": 13,
     "metadata": {},
     "output_type": "execute_result"
    }
   ],
   "source": [
    "# 1 - 0 ile 10 arasında bulunan tek sayılardan oluşan matris üretin\n",
    "import numpy as np\n",
    "b = np.arange(1,10,2)\n",
    "print(b)\n",
    "# 2 - Oluşturduğunuz matrisi parçalayın\n",
    "b1a, b1b = np.split(b,[2])\n",
    "print(b1a,b1b)\n",
    "# 3 - Parçalanmış matrisleri birleştirin\n",
    "b1 = np.concatenate([b1a,b1b])\n",
    "print(b1)\n",
    "b == b1"
   ]
  },
  {
   "attachments": {},
   "cell_type": "markdown",
   "metadata": {},
   "source": [
    "# Problem 3"
   ]
  },
  {
   "cell_type": "code",
   "execution_count": 22,
   "metadata": {},
   "outputs": [
    {
     "name": "stdout",
     "output_type": "stream",
     "text": [
      "[33 63 75 53 27 91 11 45 19 59]\n",
      "1\n",
      "(10,)\n",
      "10\n",
      "int64\n"
     ]
    }
   ],
   "source": [
    "# 1 - 5 ile 100 arasında ikişer ikişer atlayarak rastgele 10 sayıdan oluşan matris üretin\n",
    "b2a = np.arange(5,100,2)\n",
    "b2 = np.random.choice(b2a, size=10, replace=False)\n",
    "print(b2)\n",
    "# 2 - matris'in özelliklerini inceleyin\n",
    "print(b2.ndim)\n",
    "print(b2.shape)\n",
    "print(b2.size)\n",
    "print(b2.dtype)"
   ]
  }
 ],
 "metadata": {
  "kernelspec": {
   "display_name": "Python 3",
   "language": "python",
   "name": "python3"
  },
  "language_info": {
   "codemirror_mode": {
    "name": "ipython",
    "version": 3
   },
   "file_extension": ".py",
   "mimetype": "text/x-python",
   "name": "python",
   "nbconvert_exporter": "python",
   "pygments_lexer": "ipython3",
   "version": "3.12.4"
  },
  "orig_nbformat": 4,
  "vscode": {
   "interpreter": {
    "hash": "5026d2d6e7aaaaba093def813beadff083d8733e4a511af01735cbabd156995d"
   }
  }
 },
 "nbformat": 4,
 "nbformat_minor": 2
}
