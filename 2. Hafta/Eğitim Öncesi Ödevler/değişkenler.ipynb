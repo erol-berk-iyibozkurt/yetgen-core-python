{
 "cells": [
  {
   "cell_type": "markdown",
   "metadata": {},
   "source": [
    "## <center>Değişkenler - Variables\n",
    "\n",
    "- Değişkenler verinin değerinin saklamasını sağlar.\n",
    "- Kodun tamamını değiştirmeden sadece değişkeni değiştirerek veri değişiminin yapılabilmesine olanak sağlar.\n",
    "**Örnek:**\n",
    "Bankada çalışırken;\n",
    "yüzde 10 olan faiz yüzde 17'ye çıkarsa ve bu değişikliği bütün kodu değiştirmeden bankanın mobil uygulamasına eklemeyi kolay hale getirir."
   ]
  },
  {
   "cell_type": "markdown",
   "metadata": {},
   "source": [
    "Böyle bir kodu kısaltmak için kullanılabilir."
   ]
  },
  {
   "cell_type": "code",
   "execution_count": 1,
   "metadata": {},
   "outputs": [
    {
     "name": "stdout",
     "output_type": "stream",
     "text": [
      "YetGen Jump\n",
      "YetGen Jump\n",
      "YetGen Jump\n"
     ]
    }
   ],
   "source": [
    "print(\"YetGen Jump\")\n",
    "print(\"YetGen Jump\")\n",
    "print(\"YetGen Jump\")"
   ]
  },
  {
   "cell_type": "markdown",
   "metadata": {},
   "source": [
    "eşittir işareti \"=\" atama operatörüdür.\n",
    "- Değişkenin tanımlanmasını sağlar."
   ]
  },
  {
   "cell_type": "code",
   "execution_count": 11,
   "metadata": {},
   "outputs": [
    {
     "name": "stdout",
     "output_type": "stream",
     "text": [
      "YetGen Core\n"
     ]
    }
   ],
   "source": [
    "eğitim_veren = \"YetGen\"\n",
    "eğitim_programı = \"Core\"\n",
    "\n",
    "print(eğitim_veren, eğitim_programı)"
   ]
  },
  {
   "cell_type": "markdown",
   "metadata": {},
   "source": [
    "Bunu biraz daha geliştirirsem:"
   ]
  },
  {
   "cell_type": "code",
   "execution_count": 12,
   "metadata": {},
   "outputs": [
    {
     "name": "stdout",
     "output_type": "stream",
     "text": [
      "YetGen Core Python\n"
     ]
    }
   ],
   "source": [
    "eğitim_konusu = \"Python\"\n",
    "print(eğitim_veren,eğitim_programı,eğitim_konusu)"
   ]
  },
  {
   "cell_type": "markdown",
   "metadata": {},
   "source": [
    "#### <center> Değişken tanımlama kuralları\n",
    "\n",
    "**Değişkenler;**\n",
    "- harf ya da alt çizgi ile başlayabilir. **(sayı ile başlayamaz!)**\n",
    "- harf, alt çizgi ya da sayı içerebilirler.\n",
    "- adlandırırken arada boşluk olmamalıdır. <br>\n",
    "\n",
    "**Dikkat:** Python büyük ve küçük harf duyarlı olduğu için kullanımları farklı değişkenler oluşturur. <br>\n",
    "<br>\n",
    "Örnek: <br>\n",
    "python <br>\n",
    "Python <br>\n",
    "<br>\n",
    "*⚠️* **Değişken tanımlarken değişken ismi türkçe karakter kullanmamaya özen göster!**\n",
    "<br>\n",
    "<br>\n",
    "Değişken isimleri ne çok kısa ne de çok uzun olmalıdır."
   ]
  },
  {
   "cell_type": "markdown",
   "metadata": {},
   "source": [
    "Örnek 1: Sayı ile başlanmamalıdır."
   ]
  },
  {
   "cell_type": "code",
   "execution_count": 13,
   "metadata": {},
   "outputs": [
    {
     "ename": "SyntaxError",
     "evalue": "invalid decimal literal (1859463705.py, line 1)",
     "output_type": "error",
     "traceback": [
      "\u001b[0;36m  Cell \u001b[0;32mIn[13], line 1\u001b[0;36m\u001b[0m\n\u001b[0;31m    1python = \"python\"\u001b[0m\n\u001b[0m    ^\u001b[0m\n\u001b[0;31mSyntaxError\u001b[0m\u001b[0;31m:\u001b[0m invalid decimal literal\n"
     ]
    }
   ],
   "source": [
    "1python = \"python\"\n",
    "print(1python)"
   ]
  },
  {
   "cell_type": "markdown",
   "metadata": {},
   "source": [
    "Örnek 2: Harf ya da alt çizgi ile isimlendirilebilir."
   ]
  },
  {
   "cell_type": "code",
   "execution_count": 14,
   "metadata": {},
   "outputs": [
    {
     "name": "stdout",
     "output_type": "stream",
     "text": [
      "öğrenme aşkı\n",
      "öğrenme hiç bitmez\n"
     ]
    }
   ],
   "source": [
    "yetgen = \"öğrenme aşkı\"\n",
    "_yetgen = \"öğrenme hiç bitmez\"\n",
    "print(yetgen)\n",
    "print(_yetgen)"
   ]
  },
  {
   "cell_type": "markdown",
   "metadata": {},
   "source": [
    "Örnek 3: Boşluk bırakılmamalıdır."
   ]
  },
  {
   "cell_type": "code",
   "execution_count": 16,
   "metadata": {},
   "outputs": [
    {
     "ename": "SyntaxError",
     "evalue": "invalid syntax (3610131103.py, line 1)",
     "output_type": "error",
     "traceback": [
      "\u001b[0;36m  Cell \u001b[0;32mIn[16], line 1\u001b[0;36m\u001b[0m\n\u001b[0;31m    yetgen eğitimi = \"zehri aldım\"\u001b[0m\n\u001b[0m           ^\u001b[0m\n\u001b[0;31mSyntaxError\u001b[0m\u001b[0;31m:\u001b[0m invalid syntax\n"
     ]
    }
   ],
   "source": [
    "yetgen eğitimi = \"zehri aldım\"\n",
    "print(\"yetgen eğitimi\")"
   ]
  },
  {
   "cell_type": "code",
   "execution_count": 17,
   "metadata": {},
   "outputs": [
    {
     "name": "stdout",
     "output_type": "stream",
     "text": [
      "zehri aldım\n"
     ]
    }
   ],
   "source": [
    "yetgen_eğitimi = \"zehri aldım\"\n",
    "print(yetgen_eğitimi)"
   ]
  },
  {
   "cell_type": "markdown",
   "metadata": {},
   "source": [
    "Örnek 4: Türkçe karakter kullanmamaya çalışmalıyız."
   ]
  },
  {
   "cell_type": "code",
   "execution_count": 18,
   "metadata": {},
   "outputs": [
    {
     "name": "stdout",
     "output_type": "stream",
     "text": [
      "5\n"
     ]
    }
   ],
   "source": [
    "sayı = 5\n",
    "print(sayı)"
   ]
  },
  {
   "cell_type": "markdown",
   "metadata": {},
   "source": [
    "Örnek 5: Büyük ve küçük harf farklı değişkenler oluşturur."
   ]
  },
  {
   "cell_type": "code",
   "execution_count": 20,
   "metadata": {},
   "outputs": [
    {
     "name": "stdout",
     "output_type": "stream",
     "text": [
      "Toyota\n",
      "Hyundai\n"
     ]
    }
   ],
   "source": [
    "araba = \"Toyota\"\n",
    "Araba = \"Hyundai\"\n",
    "print(araba)\n",
    "print(Araba)"
   ]
  },
  {
   "cell_type": "markdown",
   "metadata": {},
   "source": [
    "⚠️ Kod çalışmasına rağmen ekranda görüldüğü üzere \"ı\" işaretinin dikdörtgen içinde olmasının sebebi, ileri seviye yazılım yazarken kodun çalışmamasına sebebiyet verecek bir karakter kullanımının tespit edilerek yazarı uyarmasıdır. Bu karakterin kullanımı kodun bilgisayar tarafından yanlış algılanmasına ve yanlış veya hata sonucu vermesine neden olur. "
   ]
  },
  {
   "cell_type": "markdown",
   "metadata": {},
   "source": [
    "#### Camel Case\n",
    "= ilk harf küçük ama sonraki her yeni sözcük büyük harf ile başlar\n",
    "\n",
    "**Örnek:** <br>\n",
    "<br>\n",
    "yetkinGencler <br>\n",
    "pythonYazilimDili <br>\n",
    "yetgenCorePython"
   ]
  },
  {
   "cell_type": "markdown",
   "metadata": {},
   "source": [
    "#### Snake Case\n",
    "= her kelime küçük ve her yeni sözcük arasına alt çizgi \"_\" gelir. <br>\n",
    "<br>\n",
    "**Örnek:** <br>\n",
    "yetgen_core_python<br>\n",
    "dogum_gunu_partisi"
   ]
  },
  {
   "cell_type": "code",
   "execution_count": 36,
   "metadata": {},
   "outputs": [
    {
     "ename": "SyntaxError",
     "evalue": "invalid syntax (446896275.py, line 3)",
     "output_type": "error",
     "traceback": [
      "\u001b[0;36m  Cell \u001b[0;32mIn[36], line 3\u001b[0;36m\u001b[0m\n\u001b[0;31m    isim soyisim = \"Barçın Balık\" #Yanlış / Hatalı kullanım (boşluk bırakılamaz)\u001b[0m\n\u001b[0m         ^\u001b[0m\n\u001b[0;31mSyntaxError\u001b[0m\u001b[0;31m:\u001b[0m invalid syntax\n"
     ]
    }
   ],
   "source": [
    "isimSoyisim = \"Mehmet Karaahmet\" #Doğru kullanım: Camel Case\n",
    "isim_soyisim = \"Ali Burak\" #Doğru kullanım: Snake Case\n",
    "isim soyisim = \"Barçın Balık\" #Yanlış / Hatalı kullanım (boşluk bırakılamaz)\n",
    "\n",
    "print(isimSoyisim)\n",
    "print(isim_soyisim)\n",
    "print(isim soyisim)"
   ]
  },
  {
   "cell_type": "markdown",
   "metadata": {},
   "source": [
    "#### Kullanılamayan diğer değişken adları\n",
    "\n",
    "- Python belirteçleri\n",
    "<br>\n",
    "<br>\n",
    "\n",
    "<img src=\"https://blogger.googleusercontent.com/img/b/R29vZ2xl/AVvXsEjt2HjFpsMiv04Lp7YJjIWnKnJj211yIFbsFZD79xkQG8rLZADQQxWQOgpfQTHDqgjZdxArAQnKZpEPXRAfMfN3Z5HPoEg_bZmMuIGVE_fIzTilk3a8CjhCeWy2PHjJWUaHm0mwc3h3Vs8/s1600/de%25C4%259Fi%25C5%259Fkenler.png\">"
   ]
  },
  {
   "cell_type": "markdown",
   "metadata": {},
   "source": [
    "### Özet\n",
    "\n",
    "- 1yetgen                → yetgen ya da _yetgen\n",
    "- yetgen eğitimi         → yetgen_eğitimi (türkçe karaktere de dikkat, bir alt madde)\n",
    "- yetgen_eğitim          → yetgen_egitimi\n",
    "- sayı                   → sayi"
   ]
  },
  {
   "cell_type": "markdown",
   "metadata": {},
   "source": [
    "#### Type() komutu\n",
    "\n",
    "- Verinin hangi tipinde olduğunu söyler."
   ]
  },
  {
   "cell_type": "markdown",
   "metadata": {},
   "source": [
    "#### <center> type() Komutu"
   ]
  },
  {
   "cell_type": "code",
   "execution_count": 21,
   "metadata": {},
   "outputs": [
    {
     "data": {
      "text/plain": [
       "str"
      ]
     },
     "execution_count": 21,
     "metadata": {},
     "output_type": "execute_result"
    }
   ],
   "source": [
    "type(\"Berkcan\")"
   ]
  },
  {
   "cell_type": "code",
   "execution_count": 22,
   "metadata": {},
   "outputs": [
    {
     "name": "stdout",
     "output_type": "stream",
     "text": [
      "<class 'str'>\n"
     ]
    }
   ],
   "source": [
    "print(type(\"Berkcan\"))"
   ]
  },
  {
   "cell_type": "markdown",
   "metadata": {},
   "source": [
    "print() ve type() komutları beraber ters bir şekilde doğru çalışmıyor"
   ]
  },
  {
   "cell_type": "code",
   "execution_count": 23,
   "metadata": {},
   "outputs": [
    {
     "name": "stdout",
     "output_type": "stream",
     "text": [
      "Berkcan\n"
     ]
    },
    {
     "data": {
      "text/plain": [
       "NoneType"
      ]
     },
     "execution_count": 23,
     "metadata": {},
     "output_type": "execute_result"
    }
   ],
   "source": [
    "type(print(\"Berkcan\"))"
   ]
  },
  {
   "cell_type": "code",
   "execution_count": 24,
   "metadata": {},
   "outputs": [
    {
     "data": {
      "text/plain": [
       "int"
      ]
     },
     "execution_count": 24,
     "metadata": {},
     "output_type": "execute_result"
    }
   ],
   "source": [
    "type(1)"
   ]
  },
  {
   "cell_type": "markdown",
   "metadata": {},
   "source": [
    "Tırnak içinde veri tipi değişiyor"
   ]
  },
  {
   "cell_type": "code",
   "execution_count": 26,
   "metadata": {},
   "outputs": [
    {
     "data": {
      "text/plain": [
       "str"
      ]
     },
     "execution_count": 26,
     "metadata": {},
     "output_type": "execute_result"
    }
   ],
   "source": [
    "type(\"1\")"
   ]
  },
  {
   "cell_type": "code",
   "execution_count": 27,
   "metadata": {},
   "outputs": [
    {
     "data": {
      "text/plain": [
       "bool"
      ]
     },
     "execution_count": 27,
     "metadata": {},
     "output_type": "execute_result"
    }
   ],
   "source": [
    "type(True)"
   ]
  },
  {
   "cell_type": "code",
   "execution_count": 28,
   "metadata": {},
   "outputs": [
    {
     "data": {
      "text/plain": [
       "float"
      ]
     },
     "execution_count": 28,
     "metadata": {},
     "output_type": "execute_result"
    }
   ],
   "source": [
    "type(3.14)"
   ]
  },
  {
   "cell_type": "markdown",
   "metadata": {},
   "source": [
    "Tüm verilerin tipini göstermiyor."
   ]
  },
  {
   "cell_type": "code",
   "execution_count": 31,
   "metadata": {},
   "outputs": [
    {
     "data": {
      "text/plain": [
       "float"
      ]
     },
     "execution_count": 31,
     "metadata": {},
     "output_type": "execute_result"
    }
   ],
   "source": [
    "type(1)\n",
    "type(3.14)"
   ]
  },
  {
   "cell_type": "markdown",
   "metadata": {},
   "source": [
    "Tek dökümanda birden fazla veri tipi öğrenmek için print() komutu ile beraber kullanabilir."
   ]
  },
  {
   "cell_type": "code",
   "execution_count": 32,
   "metadata": {},
   "outputs": [
    {
     "name": "stdout",
     "output_type": "stream",
     "text": [
      "<class 'int'>\n",
      "<class 'float'>\n"
     ]
    }
   ],
   "source": [
    "print(type(1))\n",
    "print(type(3.14))"
   ]
  },
  {
   "cell_type": "markdown",
   "metadata": {},
   "source": [
    "#### <center> Sayı Veri Türleri"
   ]
  },
  {
   "cell_type": "markdown",
   "metadata": {},
   "source": [
    "#### int (integer)\n",
    "***\n",
    "tam sayılar <br>\n",
    "<br>\n",
    "10, 20, 42, 159"
   ]
  },
  {
   "cell_type": "code",
   "execution_count": 33,
   "metadata": {},
   "outputs": [
    {
     "name": "stdout",
     "output_type": "stream",
     "text": [
      "10\n",
      "<class 'int'>\n"
     ]
    }
   ],
   "source": [
    "print(10)\n",
    "print(type(10))"
   ]
  },
  {
   "cell_type": "code",
   "execution_count": 34,
   "metadata": {},
   "outputs": [
    {
     "name": "stdout",
     "output_type": "stream",
     "text": [
      "159\n",
      "<class 'int'>\n"
     ]
    }
   ],
   "source": [
    "print(159)\n",
    "print(type(159))"
   ]
  },
  {
   "cell_type": "markdown",
   "metadata": {},
   "source": [
    "#### float\n",
    "***\n",
    "ondalık sayılar <br>\n",
    "Örnek: 10.5, 20.0, 0.0, 35.8 <br>\n",
    "<br>\n",
    "Python bölme işleminde sonucu veriyi float tipine dönüştürür. (ancak bu şekilde doğru sonuca ulaşabiliceği için)"
   ]
  },
  {
   "cell_type": "code",
   "execution_count": 35,
   "metadata": {},
   "outputs": [
    {
     "name": "stdout",
     "output_type": "stream",
     "text": [
      "3.14\n",
      "<class 'float'>\n"
     ]
    }
   ],
   "source": [
    "pi = 3.14\n",
    "print(pi)\n",
    "print(type(pi))"
   ]
  },
  {
   "cell_type": "markdown",
   "metadata": {},
   "source": [
    "#### String (Metinsel İfadeler)\n",
    "***\n",
    "- Tırnak işaretleri arasında yazılmalıdır.\n",
    "- Hangi tür tırnak ile başlandıysa o tip ile devam edilmelidir.\n",
    "- Index ile veriye ulaşma imkanı sağlar. 0'dan başlar."
   ]
  },
  {
   "cell_type": "code",
   "execution_count": 37,
   "metadata": {},
   "outputs": [
    {
     "ename": "SyntaxError",
     "evalue": "unterminated string literal (detected at line 1) (2294327085.py, line 1)",
     "output_type": "error",
     "traceback": [
      "\u001b[0;36m  Cell \u001b[0;32mIn[37], line 1\u001b[0;36m\u001b[0m\n\u001b[0;31m    print('Merhaba\")\u001b[0m\n\u001b[0m          ^\u001b[0m\n\u001b[0;31mSyntaxError\u001b[0m\u001b[0;31m:\u001b[0m unterminated string literal (detected at line 1)\n"
     ]
    }
   ],
   "source": [
    "print('Merhaba\")"
   ]
  },
  {
   "cell_type": "code",
   "execution_count": 38,
   "metadata": {},
   "outputs": [
    {
     "name": "stdout",
     "output_type": "stream",
     "text": [
      "r\n"
     ]
    }
   ],
   "source": [
    "merhaba = \"merhaba\"\n",
    "print(merhaba[2])"
   ]
  },
  {
   "cell_type": "code",
   "execution_count": 39,
   "metadata": {},
   "outputs": [
    {
     "name": "stdout",
     "output_type": "stream",
     "text": [
      "e\n"
     ]
    }
   ],
   "source": [
    "print(merhaba[1])"
   ]
  },
  {
   "cell_type": "markdown",
   "metadata": {},
   "source": [
    "değişken yapmadan da index alma çalıştı."
   ]
  },
  {
   "cell_type": "code",
   "execution_count": 40,
   "metadata": {},
   "outputs": [
    {
     "name": "stdout",
     "output_type": "stream",
     "text": [
      "e\n"
     ]
    }
   ],
   "source": [
    "print(\"selam\"[1])"
   ]
  },
  {
   "cell_type": "code",
   "execution_count": 41,
   "metadata": {},
   "outputs": [
    {
     "data": {
      "text/plain": [
       "'mer'"
      ]
     },
     "execution_count": 41,
     "metadata": {},
     "output_type": "execute_result"
    }
   ],
   "source": [
    "merhaba[0:3]"
   ]
  },
  {
   "cell_type": "code",
   "execution_count": 47,
   "metadata": {},
   "outputs": [
    {
     "name": "stdout",
     "output_type": "stream",
     "text": [
      "mer\n",
      "aba\n",
      "haba\n"
     ]
    }
   ],
   "source": [
    "print(merhaba[0:3])\n",
    "print(merhaba[4:7])\n",
    "print(merhaba[3:7])"
   ]
  },
  {
   "cell_type": "code",
   "execution_count": 49,
   "metadata": {},
   "outputs": [
    {
     "name": "stdout",
     "output_type": "stream",
     "text": [
      "BillGates\n"
     ]
    }
   ],
   "source": [
    "isim = \"Bill\"\n",
    "soyisim = \"Gates\"\n",
    "yas = 68\n",
    "\n",
    "print(isim + soyisim)"
   ]
  },
  {
   "cell_type": "code",
   "execution_count": 50,
   "metadata": {},
   "outputs": [
    {
     "name": "stdout",
     "output_type": "stream",
     "text": [
      "Bill Gates\n"
     ]
    }
   ],
   "source": [
    "print(isim + \" \" + soyisim)"
   ]
  },
  {
   "cell_type": "code",
   "execution_count": 51,
   "metadata": {},
   "outputs": [
    {
     "ename": "TypeError",
     "evalue": "can only concatenate str (not \"int\") to str",
     "output_type": "error",
     "traceback": [
      "\u001b[0;31m---------------------------------------------------------------------------\u001b[0m",
      "\u001b[0;31mTypeError\u001b[0m                                 Traceback (most recent call last)",
      "Cell \u001b[0;32mIn[51], line 1\u001b[0m\n\u001b[0;32m----> 1\u001b[0m \u001b[38;5;28mprint\u001b[39m(\u001b[43misim\u001b[49m\u001b[43m \u001b[49m\u001b[38;5;241;43m+\u001b[39;49m\u001b[43m \u001b[49m\u001b[38;5;124;43m\"\u001b[39;49m\u001b[38;5;124;43m \u001b[39;49m\u001b[38;5;124;43m\"\u001b[39;49m\u001b[43m \u001b[49m\u001b[38;5;241;43m+\u001b[39;49m\u001b[43m \u001b[49m\u001b[43msoyisim\u001b[49m\u001b[43m \u001b[49m\u001b[38;5;241;43m+\u001b[39;49m\u001b[43m \u001b[49m\u001b[43myas\u001b[49m)\n",
      "\u001b[0;31mTypeError\u001b[0m: can only concatenate str (not \"int\") to str"
     ]
    }
   ],
   "source": [
    "print(isim + \" \" + soyisim + yas)"
   ]
  },
  {
   "cell_type": "code",
   "execution_count": 52,
   "metadata": {},
   "outputs": [
    {
     "name": "stdout",
     "output_type": "stream",
     "text": [
      "Bill Gates 68\n"
     ]
    }
   ],
   "source": [
    "print(isim, soyisim, yas)"
   ]
  },
  {
   "cell_type": "code",
   "execution_count": 53,
   "metadata": {},
   "outputs": [
    {
     "name": "stdout",
     "output_type": "stream",
     "text": [
      "Bill   Gates   68\n"
     ]
    }
   ],
   "source": [
    "print(isim, \" \", soyisim, \" \", yas)"
   ]
  },
  {
   "cell_type": "code",
   "execution_count": 56,
   "metadata": {},
   "outputs": [
    {
     "name": "stdout",
     "output_type": "stream",
     "text": [
      "Bill Gates 68\n"
     ]
    }
   ],
   "source": [
    "print(f\"{isim} {soyisim} {yas}\")"
   ]
  },
  {
   "cell_type": "markdown",
   "metadata": {},
   "source": [
    "#### Boolean\n",
    "***\n",
    "Değerleri sadece \"True\" ya da \"False\"dur."
   ]
  },
  {
   "cell_type": "code",
   "execution_count": 57,
   "metadata": {},
   "outputs": [
    {
     "name": "stdout",
     "output_type": "stream",
     "text": [
      "True\n",
      "<class 'bool'>\n"
     ]
    }
   ],
   "source": [
    "ankara_baskenttir = True\n",
    "print(ankara_baskenttir)\n",
    "print(type(ankara_baskenttir))"
   ]
  },
  {
   "cell_type": "markdown",
   "metadata": {},
   "source": [
    "#### <center> input() komutu\n",
    "\n",
    "Kullanıcıdan veri girişi almanızı sağlar.\n",
    "veri doğrudan string alınır <br> (sayı olarak veriyi almak için int ya da float tipini kullan, belirt)"
   ]
  },
  {
   "cell_type": "code",
   "execution_count": 67,
   "metadata": {},
   "outputs": [
    {
     "name": "stdout",
     "output_type": "stream",
     "text": [
      "Merhaba Erol\n",
      "Merhaba Erol\n",
      "Merhaba Erol\n"
     ]
    }
   ],
   "source": [
    "isim = input(\"İsminizi giriniz:\")\n",
    "print(f\"Merhaba {isim}\")\n",
    "print(\"Merhaba\", isim)\n",
    "print(\"Merhaba \" + isim)"
   ]
  },
  {
   "cell_type": "markdown",
   "metadata": {},
   "source": [
    "Veri string (sayı biçiminde değil)"
   ]
  },
  {
   "cell_type": "code",
   "execution_count": 72,
   "metadata": {},
   "outputs": [
    {
     "name": "stdout",
     "output_type": "stream",
     "text": [
      "28\n"
     ]
    }
   ],
   "source": [
    "sayi1 = input(\"İlk sayıyı giriniz:\")\n",
    "sayi2 = input(\"İkinci sayıyı giriniz:\")\n",
    "print(sayi1+sayi2)"
   ]
  },
  {
   "cell_type": "code",
   "execution_count": 73,
   "metadata": {},
   "outputs": [
    {
     "name": "stdout",
     "output_type": "stream",
     "text": [
      "10.0\n"
     ]
    }
   ],
   "source": [
    "print(float(sayi1)+float(sayi2))"
   ]
  },
  {
   "cell_type": "code",
   "execution_count": 75,
   "metadata": {},
   "outputs": [
    {
     "name": "stdout",
     "output_type": "stream",
     "text": [
      "4\n"
     ]
    }
   ],
   "source": [
    "sayi3 = int(input(\"Bir sayı gir:\"))\n",
    "sayi4 = int(input(\"Bir sayı gir:\"))\n",
    "print(sayi3 + sayi4)"
   ]
  },
  {
   "cell_type": "code",
   "execution_count": 78,
   "metadata": {},
   "outputs": [
    {
     "name": "stdout",
     "output_type": "stream",
     "text": [
      "2 + 2 = 4\n"
     ]
    }
   ],
   "source": [
    "print(f\"{sayi3} + {sayi4} = {sayi3 +sayi4}\")"
   ]
  }
 ],
 "metadata": {
  "kernelspec": {
   "display_name": "Python 3",
   "language": "python",
   "name": "python3"
  },
  "language_info": {
   "codemirror_mode": {
    "name": "ipython",
    "version": 3
   },
   "file_extension": ".py",
   "mimetype": "text/x-python",
   "name": "python",
   "nbconvert_exporter": "python",
   "pygments_lexer": "ipython3",
   "version": "3.10.1"
  }
 },
 "nbformat": 4,
 "nbformat_minor": 2
}
