{
 "cells": [
  {
   "cell_type": "markdown",
   "metadata": {},
   "source": [
    "## <center>Değişkenler - Variables\n",
    "\n",
    "- Değişkenler verinin değerinin saklamasını sağlar.\n",
    "- Kodun tamamını değiştirmeden sadece değişkeni değiştirerek veri değişiminin yapılabilmesine olanak sağlar.\n",
    "**Örnek:**\n",
    "Bankada çalışırken;\n",
    "yüzde 10 olan faiz yüzde 17'ye çıkarsa ve bu değişikliği bütün kodu değiştirmeden bankanın mobil uygulamasına eklemeyi kolay hale getirir."
   ]
  },
  {
   "cell_type": "markdown",
   "metadata": {},
   "source": [
    "Böyle bir kodu kısaltmak için kullanılabilir."
   ]
  },
  {
   "cell_type": "code",
   "execution_count": 1,
   "metadata": {},
   "outputs": [
    {
     "name": "stdout",
     "output_type": "stream",
     "text": [
      "YetGen Jump\n",
      "YetGen Jump\n",
      "YetGen Jump\n"
     ]
    }
   ],
   "source": [
    "print(\"YetGen Jump\")\n",
    "print(\"YetGen Jump\")\n",
    "print(\"YetGen Jump\")"
   ]
  },
  {
   "cell_type": "markdown",
   "metadata": {},
   "source": [
    "eşittir işareti \"=\" atama operatörüdür.\n",
    "- Değişkenin tanımlanmasını sağlar."
   ]
  },
  {
   "cell_type": "code",
   "execution_count": 11,
   "metadata": {},
   "outputs": [
    {
     "name": "stdout",
     "output_type": "stream",
     "text": [
      "YetGen Core\n"
     ]
    }
   ],
   "source": [
    "eğitim_veren = \"YetGen\"\n",
    "eğitim_programı = \"Core\"\n",
    "\n",
    "print(eğitim_veren, eğitim_programı)"
   ]
  },
  {
   "cell_type": "markdown",
   "metadata": {},
   "source": [
    "Bunu biraz daha geliştirirsem:"
   ]
  },
  {
   "cell_type": "code",
   "execution_count": 12,
   "metadata": {},
   "outputs": [
    {
     "name": "stdout",
     "output_type": "stream",
     "text": [
      "YetGen Core Python\n"
     ]
    }
   ],
   "source": [
    "eğitim_konusu = \"Python\"\n",
    "print(eğitim_veren,eğitim_programı,eğitim_konusu)"
   ]
  },
  {
   "cell_type": "markdown",
   "metadata": {},
   "source": [
    "#### Değişken tanımlama kuralları\n",
    "\n",
    "**Değişkenler;**\n",
    "- harf ya da alt çizgi ile başlayabilir. **(sayı ile başlayamaz!)**\n",
    "- harf, alt çizgi ya da sayı içerebilirler.\n",
    "- adlandırırken arada boşluk olmamalıdır. <br>\n",
    "\n",
    "**Dikkat:** Python büyük ve küçük harf duyarlı olduğu için kullanımları farklı değişkenler oluşturur. <br>\n",
    "<br>\n",
    "Örnek: <br>\n",
    "python <br>\n",
    "Python <br>\n",
    "<br>\n",
    "*⚠️* **Değişken tanımlarken değişken ismi türkçe karakter kullanmamaya özen göster!**\n",
    "<br>\n",
    "<br>\n",
    "Değişken isimleri ne çok kısa ne de çok uzun olmalıdır."
   ]
  },
  {
   "cell_type": "markdown",
   "metadata": {},
   "source": [
    "Örnek 1: Sayı ile başlanmamalıdır."
   ]
  },
  {
   "cell_type": "code",
   "execution_count": 13,
   "metadata": {},
   "outputs": [
    {
     "ename": "SyntaxError",
     "evalue": "invalid decimal literal (1859463705.py, line 1)",
     "output_type": "error",
     "traceback": [
      "\u001b[0;36m  Cell \u001b[0;32mIn[13], line 1\u001b[0;36m\u001b[0m\n\u001b[0;31m    1python = \"python\"\u001b[0m\n\u001b[0m    ^\u001b[0m\n\u001b[0;31mSyntaxError\u001b[0m\u001b[0;31m:\u001b[0m invalid decimal literal\n"
     ]
    }
   ],
   "source": [
    "1python = \"python\"\n",
    "print(1python)"
   ]
  },
  {
   "cell_type": "markdown",
   "metadata": {},
   "source": [
    "Örnek 2: Harf ya da alt çizgi ile isimlendirilebilir."
   ]
  },
  {
   "cell_type": "code",
   "execution_count": 14,
   "metadata": {},
   "outputs": [
    {
     "name": "stdout",
     "output_type": "stream",
     "text": [
      "öğrenme aşkı\n",
      "öğrenme hiç bitmez\n"
     ]
    }
   ],
   "source": [
    "yetgen = \"öğrenme aşkı\"\n",
    "_yetgen = \"öğrenme hiç bitmez\"\n",
    "print(yetgen)\n",
    "print(_yetgen)"
   ]
  },
  {
   "cell_type": "markdown",
   "metadata": {},
   "source": [
    "Örnek 3: Boşluk bırakılmamalıdır."
   ]
  },
  {
   "cell_type": "code",
   "execution_count": 16,
   "metadata": {},
   "outputs": [
    {
     "ename": "SyntaxError",
     "evalue": "invalid syntax (3610131103.py, line 1)",
     "output_type": "error",
     "traceback": [
      "\u001b[0;36m  Cell \u001b[0;32mIn[16], line 1\u001b[0;36m\u001b[0m\n\u001b[0;31m    yetgen eğitimi = \"zehri aldım\"\u001b[0m\n\u001b[0m           ^\u001b[0m\n\u001b[0;31mSyntaxError\u001b[0m\u001b[0;31m:\u001b[0m invalid syntax\n"
     ]
    }
   ],
   "source": [
    "yetgen eğitimi = \"zehri aldım\"\n",
    "print(\"yetgen eğitimi\")"
   ]
  },
  {
   "cell_type": "code",
   "execution_count": 17,
   "metadata": {},
   "outputs": [
    {
     "name": "stdout",
     "output_type": "stream",
     "text": [
      "zehri aldım\n"
     ]
    }
   ],
   "source": [
    "yetgen_eğitimi = \"zehri aldım\"\n",
    "print(yetgen_eğitimi)"
   ]
  },
  {
   "cell_type": "markdown",
   "metadata": {},
   "source": [
    "Örnek 4: Türkçe karakter kullanmamaya çalışmalıyız."
   ]
  },
  {
   "cell_type": "code",
   "execution_count": 18,
   "metadata": {},
   "outputs": [
    {
     "name": "stdout",
     "output_type": "stream",
     "text": [
      "5\n"
     ]
    }
   ],
   "source": [
    "sayı = 5\n",
    "print(sayı)"
   ]
  },
  {
   "cell_type": "markdown",
   "metadata": {},
   "source": [
    "Örnek 5: Büyük ve küçük harf farklı değişkenler oluşturur."
   ]
  },
  {
   "cell_type": "code",
   "execution_count": 20,
   "metadata": {},
   "outputs": [
    {
     "name": "stdout",
     "output_type": "stream",
     "text": [
      "Toyota\n",
      "Hyundai\n"
     ]
    }
   ],
   "source": [
    "araba = \"Toyota\"\n",
    "Araba = \"Hyundai\"\n",
    "print(araba)\n",
    "print(Araba)"
   ]
  },
  {
   "cell_type": "markdown",
   "metadata": {},
   "source": [
    "⚠️ Kod çalışmasına rağmen ekranda görüldüğü üzere \"ı\" işaretinin dikdörtgen içinde olmasının sebebi, ileri seviye yazılım yazarken kodun çalışmamasına sebebiyet verecek bir karakter kullanımının tespit edilerek yazarı uyarmasıdır. Bu karakterin kullanımı kodun bilgisayar tarafından yanlış algılanmasına ve yanlış veya hata sonucu vermesine neden olur. "
   ]
  },
  {
   "cell_type": "markdown",
   "metadata": {},
   "source": [
    "#### Camel Case\n",
    "= ilk harf küçük ama sonraki her yeni sözcük büyük harf ile başlar\n",
    "\n",
    "**Örnek:** <br>\n",
    "<br>\n",
    "yetkinGencler <br>\n",
    "pythonYazilimDili <br>\n",
    "yetgenCorePython"
   ]
  },
  {
   "cell_type": "markdown",
   "metadata": {},
   "source": [
    "#### Snake Case\n",
    "= her kelime küçük ve her yeni sözcük arasına alt çizgi \"_\" gelir. <br>\n",
    "<br>\n",
    "**Örnek:** <br>\n",
    "yetgen_core_python<br>\n",
    "dogum_gunu_partisi"
   ]
  },
  {
   "cell_type": "code",
   "execution_count": 19,
   "metadata": {},
   "outputs": [
    {
     "ename": "SyntaxError",
     "evalue": "invalid syntax (1877279524.py, line 3)",
     "output_type": "error",
     "traceback": [
      "\u001b[0;36m  Cell \u001b[0;32mIn[19], line 3\u001b[0;36m\u001b[0m\n\u001b[0;31m    isim soyisim = \"Barçın Balık\" #Yanlış kullanım (boşluk bırakılamaz)\u001b[0m\n\u001b[0m         ^\u001b[0m\n\u001b[0;31mSyntaxError\u001b[0m\u001b[0;31m:\u001b[0m invalid syntax\n"
     ]
    }
   ],
   "source": [
    "isimSoyisim = \"Mehmet Karaahmet\" #Doğru kullanım: Camel Case\n",
    "isim_soyisim = \"Ali Burak\" #Doğru kullanım: Snake Case\n",
    "isim soyisim = \"Barçın Balık\" #Yanlış / Hatalı kullanım (boşluk bırakılamaz)\n",
    "\n",
    "print(isimSoyisim)\n",
    "print(isim_soyisim)\n",
    "print(isim soyisim)"
   ]
  },
  {
   "cell_type": "markdown",
   "metadata": {},
   "source": [
    "#### Kullanılamayan diğer değişken adları\n",
    "\n",
    "- Python belirteçleri\n",
    "<br>\n",
    "<br>\n",
    "\n",
    "<img src=\"https://blogger.googleusercontent.com/img/b/R29vZ2xl/AVvXsEjt2HjFpsMiv04Lp7YJjIWnKnJj211yIFbsFZD79xkQG8rLZADQQxWQOgpfQTHDqgjZdxArAQnKZpEPXRAfMfN3Z5HPoEg_bZmMuIGVE_fIzTilk3a8CjhCeWy2PHjJWUaHm0mwc3h3Vs8/s1600/de%25C4%259Fi%25C5%259Fkenler.png\">"
   ]
  },
  {
   "cell_type": "markdown",
   "metadata": {},
   "source": [
    "### Özet\n",
    "\n",
    "- 1yetgen                → yetgen ya da _yetgen\n",
    "- yetgen eğitimi         → yetgen_eğitimi (türkçe karaktere de dikkat, bir alt madde)\n",
    "- yetgen_eğitim          → yetgen_egitimi\n",
    "- sayı                   → sayi"
   ]
  },
  {
   "cell_type": "markdown",
   "metadata": {},
   "source": [
    "#### Type() komutu\n",
    "\n",
    "- Verinin hangi tipinde olduğunu söyler."
   ]
  },
  {
   "cell_type": "code",
   "execution_count": 21,
   "metadata": {},
   "outputs": [
    {
     "data": {
      "text/plain": [
       "str"
      ]
     },
     "execution_count": 21,
     "metadata": {},
     "output_type": "execute_result"
    }
   ],
   "source": [
    "type(\"Berkcan\")"
   ]
  },
  {
   "cell_type": "code",
   "execution_count": 22,
   "metadata": {},
   "outputs": [
    {
     "name": "stdout",
     "output_type": "stream",
     "text": [
      "<class 'str'>\n"
     ]
    }
   ],
   "source": [
    "print(type(\"Berkcan\"))"
   ]
  },
  {
   "cell_type": "markdown",
   "metadata": {},
   "source": [
    "print() ve type() komutları beraber ters bir şekilde doğru çalışmıyor"
   ]
  },
  {
   "cell_type": "code",
   "execution_count": 23,
   "metadata": {},
   "outputs": [
    {
     "name": "stdout",
     "output_type": "stream",
     "text": [
      "Berkcan\n"
     ]
    },
    {
     "data": {
      "text/plain": [
       "NoneType"
      ]
     },
     "execution_count": 23,
     "metadata": {},
     "output_type": "execute_result"
    }
   ],
   "source": [
    "type(print(\"Berkcan\"))"
   ]
  },
  {
   "cell_type": "code",
   "execution_count": 24,
   "metadata": {},
   "outputs": [
    {
     "data": {
      "text/plain": [
       "int"
      ]
     },
     "execution_count": 24,
     "metadata": {},
     "output_type": "execute_result"
    }
   ],
   "source": [
    "type(1)"
   ]
  },
  {
   "cell_type": "markdown",
   "metadata": {},
   "source": [
    "Tırnak içinde veri tipi değişiyor"
   ]
  },
  {
   "cell_type": "code",
   "execution_count": 26,
   "metadata": {},
   "outputs": [
    {
     "data": {
      "text/plain": [
       "str"
      ]
     },
     "execution_count": 26,
     "metadata": {},
     "output_type": "execute_result"
    }
   ],
   "source": [
    "type(\"1\")"
   ]
  },
  {
   "cell_type": "code",
   "execution_count": 27,
   "metadata": {},
   "outputs": [
    {
     "data": {
      "text/plain": [
       "bool"
      ]
     },
     "execution_count": 27,
     "metadata": {},
     "output_type": "execute_result"
    }
   ],
   "source": [
    "type(True)"
   ]
  },
  {
   "cell_type": "code",
   "execution_count": 28,
   "metadata": {},
   "outputs": [
    {
     "data": {
      "text/plain": [
       "float"
      ]
     },
     "execution_count": 28,
     "metadata": {},
     "output_type": "execute_result"
    }
   ],
   "source": [
    "type(3.14)"
   ]
  },
  {
   "cell_type": "markdown",
   "metadata": {},
   "source": [
    "Tüm verilerin tipini göstermiyor."
   ]
  },
  {
   "cell_type": "code",
   "execution_count": 31,
   "metadata": {},
   "outputs": [
    {
     "data": {
      "text/plain": [
       "float"
      ]
     },
     "execution_count": 31,
     "metadata": {},
     "output_type": "execute_result"
    }
   ],
   "source": [
    "type(1)\n",
    "type(3.14)"
   ]
  },
  {
   "cell_type": "markdown",
   "metadata": {},
   "source": [
    "Tek dökümanda birden fazla veri tipi öğrenmek için print() komutu ile beraber kullanabilir."
   ]
  },
  {
   "cell_type": "code",
   "execution_count": 32,
   "metadata": {},
   "outputs": [
    {
     "name": "stdout",
     "output_type": "stream",
     "text": [
      "<class 'int'>\n",
      "<class 'float'>\n"
     ]
    }
   ],
   "source": [
    "print(type(1))\n",
    "print(type(3.14))"
   ]
  }
 ],
 "metadata": {
  "kernelspec": {
   "display_name": "Python 3",
   "language": "python",
   "name": "python3"
  },
  "language_info": {
   "codemirror_mode": {
    "name": "ipython",
    "version": 3
   },
   "file_extension": ".py",
   "mimetype": "text/x-python",
   "name": "python",
   "nbconvert_exporter": "python",
   "pygments_lexer": "ipython3",
   "version": "3.10.1"
  }
 },
 "nbformat": 4,
 "nbformat_minor": 2
}
