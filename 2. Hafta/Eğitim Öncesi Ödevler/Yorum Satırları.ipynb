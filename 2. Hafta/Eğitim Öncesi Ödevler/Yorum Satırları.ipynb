{
 "cells": [
  {
   "cell_type": "markdown",
   "metadata": {},
   "source": [
    "# Yorum Satırları\n",
    "\n",
    "- kare işareti \"#\" ile tekli yorum yazılabilir."
   ]
  },
  {
   "cell_type": "code",
   "execution_count": 1,
   "metadata": {},
   "outputs": [
    {
     "name": "stdout",
     "output_type": "stream",
     "text": [
      "Selam, nasılsın?\n"
     ]
    }
   ],
   "source": [
    "print(\"Selam, nasılsın?\") #Selamlama"
   ]
  },
  {
   "cell_type": "markdown",
   "metadata": {},
   "source": [
    "- çoklu yorum için üç tırnak işareti gereklidir.\n",
    "\n",
    "**Örnek:**\n",
    "'''\n",
    "çoklu yorum\n",
    "'''"
   ]
  },
  {
   "cell_type": "code",
   "execution_count": 4,
   "metadata": {},
   "outputs": [
    {
     "name": "stdout",
     "output_type": "stream",
     "text": [
      "Hello, world!\n"
     ]
    },
    {
     "data": {
      "text/plain": [
       "'yazılım öğrenirken bir klasik olarak kullanılan bu cümle, her zaman programlama dili öğrenirken gerçekleştirilen bir ritüeldir'"
      ]
     },
     "execution_count": 4,
     "metadata": {},
     "output_type": "execute_result"
    }
   ],
   "source": [
    "print(\"Hello, world!\")\n",
    "\n",
    "'''yazılım öğrenirken bir klasik olarak kullanılan bu cümle, her zaman programlama dili öğrenirken gerçekleştirilen bir ritüeldir'''"
   ]
  },
  {
   "cell_type": "markdown",
   "metadata": {},
   "source": [
    "Python'da çalışıyor ama jupyter notebook'da print fonksiyon dosyasında bahsedilen sadece tırnak \" ile kabul edilmesinden dolayı çalışmıyor olabilir. Moodle dersinde jupyter'de de çalışıyor dendi ama kendim denerken olmadı. \n",
    "\n",
    "**Kendime Not:** Belki yeniden bir denemem lazım.   "
   ]
  }
 ],
 "metadata": {
  "kernelspec": {
   "display_name": "Python 3",
   "language": "python",
   "name": "python3"
  },
  "language_info": {
   "codemirror_mode": {
    "name": "ipython",
    "version": 3
   },
   "file_extension": ".py",
   "mimetype": "text/x-python",
   "name": "python",
   "nbconvert_exporter": "python",
   "pygments_lexer": "ipython3",
   "version": "3.10.1"
  }
 },
 "nbformat": 4,
 "nbformat_minor": 2
}
