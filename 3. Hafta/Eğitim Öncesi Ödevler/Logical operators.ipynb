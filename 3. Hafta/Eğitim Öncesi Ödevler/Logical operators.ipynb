{
 "cells": [
  {
   "cell_type": "markdown",
   "metadata": {},
   "source": [
    "# <center> Logical Operators / Mantıksal Operatörler\n",
    "\n",
    "AND operatörü <br>\n",
    "\n",
    "- True AND True = True\n",
    "- True AND False = False\n",
    "- False AND True = False\n",
    "- False AND False = False\n",
    "\n",
    "OR Operatörü\n",
    "\n",
    "- True OR True = True\n",
    "- True OR False = True\n",
    "- False OR True = True\n",
    "- False OR False = False\n",
    "\n",
    "NOT Operatörü\n",
    "\n",
    "- True değerini False\n",
    "- False değerini True yapar. "
   ]
  },
  {
   "cell_type": "code",
   "execution_count": 7,
   "metadata": {},
   "outputs": [
    {
     "name": "stdout",
     "output_type": "stream",
     "text": [
      "True The number was 5.\n"
     ]
    }
   ],
   "source": [
    "x = int(input(\"the lucky number is \"))\n",
    "print( 0 < x < 50,  f'The number was {x}.')"
   ]
  },
  {
   "cell_type": "code",
   "execution_count": 2,
   "metadata": {},
   "outputs": [
    {
     "name": "stdout",
     "output_type": "stream",
     "text": [
      "first number is 1.0 and second is 50.0. Are both numbers bigger than 50. It is False\n"
     ]
    }
   ],
   "source": [
    "number1 = float(input(\"Give first number: \"))\n",
    "number2 = float(input(\"Give second number: \"))\n",
    "print(f'first number is {number1} and second is {number2}. Are both numbers bigger than 50. It is', number1 > 50 and number2 > 50 )"
   ]
  },
  {
   "cell_type": "markdown",
   "metadata": {},
   "source": [
    "OR Examples"
   ]
  },
  {
   "cell_type": "code",
   "execution_count": 10,
   "metadata": {},
   "outputs": [
    {
     "name": "stdout",
     "output_type": "stream",
     "text": [
      "False\n"
     ]
    }
   ],
   "source": [
    "sk = 10\n",
    "lv = 20\n",
    "hv = -20\n",
    "mk = -10\n",
    "print((sk and lv) > 0 or (hv and mk) > 0 )"
   ]
  },
  {
   "cell_type": "code",
   "execution_count": 17,
   "metadata": {},
   "outputs": [
    {
     "name": "stdout",
     "output_type": "stream",
     "text": [
      "45 True\n"
     ]
    }
   ],
   "source": [
    "# Alisha want to have a number that should bigger than zero or can divide by 11.\n",
    "alishaNumber = int(input(\"Give a number:\"))\n",
    "print(alishaNumber, alishaNumber > 0 or alishaNumber % 11 == 0)"
   ]
  },
  {
   "cell_type": "code",
   "execution_count": 18,
   "metadata": {},
   "outputs": [
    {
     "name": "stdout",
     "output_type": "stream",
     "text": [
      "False\n",
      "True\n"
     ]
    }
   ],
   "source": [
    "print(3 > 2 and 3 < 1)\n",
    "print(3 > 2 or 3 < 1)"
   ]
  },
  {
   "cell_type": "markdown",
   "metadata": {},
   "source": [
    "Not Operators"
   ]
  },
  {
   "cell_type": "code",
   "execution_count": 19,
   "metadata": {},
   "outputs": [
    {
     "name": "stdout",
     "output_type": "stream",
     "text": [
      "False\n"
     ]
    }
   ],
   "source": [
    "print(not(True))"
   ]
  },
  {
   "cell_type": "code",
   "execution_count": 28,
   "metadata": {},
   "outputs": [
    {
     "name": "stdout",
     "output_type": "stream",
     "text": [
      "True\n",
      "b False\n",
      "False\n",
      "True\n"
     ]
    }
   ],
   "source": [
    "a = \"b\"\n",
    "print(a == a)\n",
    "print(a, not a)\n",
    "print(a != a)\n",
    "print(a == a)"
   ]
  },
  {
   "cell_type": "markdown",
   "metadata": {},
   "source": [
    "## IN Operatörü"
   ]
  },
  {
   "cell_type": "code",
   "execution_count": 3,
   "metadata": {},
   "outputs": [
    {
     "name": "stdout",
     "output_type": "stream",
     "text": [
      "True\n",
      "False\n"
     ]
    }
   ],
   "source": [
    "string = \"hi\"\n",
    "print(\"i\" in string)\n",
    "print(\"p\" in string)"
   ]
  }
 ],
 "metadata": {
  "kernelspec": {
   "display_name": "Python 3",
   "language": "python",
   "name": "python3"
  },
  "language_info": {
   "codemirror_mode": {
    "name": "ipython",
    "version": 3
   },
   "file_extension": ".py",
   "mimetype": "text/x-python",
   "name": "python",
   "nbconvert_exporter": "python",
   "pygments_lexer": "ipython3",
   "version": "3.10.1"
  }
 },
 "nbformat": 4,
 "nbformat_minor": 2
}
