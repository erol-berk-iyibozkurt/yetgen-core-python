{
 "cells": [
  {
   "cell_type": "markdown",
   "metadata": {},
   "source": [
    "# <center> Logical Operators / Mantıksal Operatörler\n",
    "\n",
    "AND operatörü <br>\n",
    "\n",
    "- True AND True = True\n",
    "- True AND False = False\n",
    "- False AND True = False\n",
    "- False AND False = False\n",
    "\n",
    "OR Operatörü\n",
    "\n",
    "- True OR True = True\n",
    "- True OR False = True\n",
    "- False OR True = True\n",
    "- False OR False = False\n",
    "\n",
    "NOT Operatörü\n",
    "\n",
    "- True değerini False\n",
    "- False değerini True yapar. "
   ]
  },
  {
   "cell_type": "markdown",
   "metadata": {},
   "source": [
    "## IN Operatörü"
   ]
  },
  {
   "cell_type": "code",
   "execution_count": 3,
   "metadata": {},
   "outputs": [
    {
     "name": "stdout",
     "output_type": "stream",
     "text": [
      "True\n",
      "False\n"
     ]
    }
   ],
   "source": [
    "string = \"hi\"\n",
    "print(\"i\" in string)\n",
    "print(\"p\" in string)"
   ]
  }
 ],
 "metadata": {
  "kernelspec": {
   "display_name": "Python 3",
   "language": "python",
   "name": "python3"
  },
  "language_info": {
   "codemirror_mode": {
    "name": "ipython",
    "version": 3
   },
   "file_extension": ".py",
   "mimetype": "text/x-python",
   "name": "python",
   "nbconvert_exporter": "python",
   "pygments_lexer": "ipython3",
   "version": "3.10.1"
  }
 },
 "nbformat": 4,
 "nbformat_minor": 2
}
