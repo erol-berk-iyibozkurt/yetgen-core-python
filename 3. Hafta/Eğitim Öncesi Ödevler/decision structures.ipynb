{
 "cells": [
  {
   "cell_type": "markdown",
   "metadata": {},
   "source": [
    "# <center> Decision Structures / Karar Yapıları\n",
    "\n",
    "- if -> koşul doğruysa çalışacak\n",
    "- elif -> ilk koşul yanlış ve bu koşul doğruysa çalışacak\n",
    "- else -> diğer koşullar yanlışsa çalışacak "
   ]
  },
  {
   "cell_type": "markdown",
   "metadata": {},
   "source": [
    "Sayı mod 2 = 0 ise çift sayıdır.\n",
    "\n",
    "Sayı mod 2 != ise tak sayıdır."
   ]
  },
  {
   "cell_type": "code",
   "execution_count": null,
   "metadata": {},
   "outputs": [],
   "source": [
    "x = 5\n",
    "y = 10\n",
    "z = 2\n",
    "if x > y:\n",
    "    print(f\"{x} is bigger than {y}\")\n",
    "elif x = y:\n",
    "    \n",
    "elif"
   ]
  },
  {
   "cell_type": "markdown",
   "metadata": {},
   "source": [
    "Fix under here."
   ]
  },
  {
   "cell_type": "code",
   "execution_count": 11,
   "metadata": {},
   "outputs": [
    {
     "name": "stdout",
     "output_type": "stream",
     "text": [
      "4 and 5 are not bigger than 10.\n"
     ]
    }
   ],
   "source": [
    "number1 = int(input(\"Give the first number: \"))\n",
    "number2 = int(input(\"Give the second number: \"))\n",
    "if number1 > 10:\n",
    "    print(f\"{number1} is bigger than 10.\")\n",
    "    if number2 > 10:\n",
    "        print(f\"{number2} is bigger than 10.\")\n",
    "    else: \n",
    "        print(f\"{number1} and {number2} are not bigger than 10.\")\n",
    "else:\n",
    "    print(\"There is a problem. I think you gave a float number. Am I right? Please, try again.\")"
   ]
  },
  {
   "cell_type": "code",
   "execution_count": null,
   "metadata": {},
   "outputs": [],
   "source": [
    "name = (\"Ahmet\", \"Mehmet\", \"Ali\", \"İsmet\", \"Abdülkadir\")\n",
    "if \"Ahmet\" in name:\n",
    "    print(\"Ahmet, you are on our list. Congrats!\")"
   ]
  }
 ],
 "metadata": {
  "kernelspec": {
   "display_name": "Python 3",
   "language": "python",
   "name": "python3"
  },
  "language_info": {
   "codemirror_mode": {
    "name": "ipython",
    "version": 3
   },
   "file_extension": ".py",
   "mimetype": "text/x-python",
   "name": "python",
   "nbconvert_exporter": "python",
   "pygments_lexer": "ipython3",
   "version": "3.10.1"
  }
 },
 "nbformat": 4,
 "nbformat_minor": 2
}
