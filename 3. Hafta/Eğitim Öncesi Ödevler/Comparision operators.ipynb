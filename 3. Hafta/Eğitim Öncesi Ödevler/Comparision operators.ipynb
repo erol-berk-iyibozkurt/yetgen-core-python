{
 "cells": [
  {
   "cell_type": "markdown",
   "metadata": {},
   "source": [
    "# <center> Comparision Operators / Karşılaştırma Operatörleri\n",
    "\n",
    "\"=\" atama operatörü <br>\n",
    "\"==\" karşılaştırma (birbiri ile eşit olup olmadığını gösteren) operatör <br>\n",
    "\"!=\" eşit değil mi? operatörü <br>\n",
    "\">\" büyüktür <br>\n",
    "\"<\" küçüktür <br>\n",
    "\">=\" büyük eşittir <br>\n",
    "\"<=\" küçük eşittir <br>\n"
   ]
  }
 ],
 "metadata": {
  "kernelspec": {
   "display_name": "Python 3",
   "language": "python",
   "name": "python3"
  },
  "language_info": {
   "name": "python",
   "version": "3.10.1"
  }
 },
 "nbformat": 4,
 "nbformat_minor": 2
}
