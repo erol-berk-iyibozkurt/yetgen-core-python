{
 "cells": [
  {
   "cell_type": "markdown",
   "metadata": {},
   "source": [
    "# <center> Comparision Operators / Karşılaştırma Operatörleri\n",
    "\n",
    "\"=\" atama operatörü <br>\n",
    "\"==\" karşılaştırma (birbiri ile eşit olup olmadığını gösteren) operatör <br>\n",
    "\"!=\" eşit değildir operatörü <br>\n",
    "\">\" büyüktür <br>\n",
    "\"<\" küçüktür <br>\n",
    "\">=\" büyük eşittir <br>\n",
    "\"<=\" küçük eşittir <br>\n"
   ]
  },
  {
   "cell_type": "code",
   "execution_count": 1,
   "metadata": {},
   "outputs": [],
   "source": [
    "a, b, c, d = 5, 5, 10, 4"
   ]
  },
  {
   "cell_type": "code",
   "execution_count": 2,
   "metadata": {},
   "outputs": [
    {
     "name": "stdout",
     "output_type": "stream",
     "text": [
      "True\n",
      "False\n"
     ]
    }
   ],
   "source": [
    "print(a == b) # True\n",
    "print(a == c) # False"
   ]
  },
  {
   "cell_type": "code",
   "execution_count": 3,
   "metadata": {},
   "outputs": [
    {
     "name": "stdout",
     "output_type": "stream",
     "text": [
      "False\n",
      "False\n"
     ]
    }
   ],
   "source": [
    "username = \"admin\"\n",
    "password = \"12345\"\n",
    "print(\"ceo\" == username) # False\n",
    "print(\"12345.\" == password) # False"
   ]
  },
  {
   "cell_type": "code",
   "execution_count": 5,
   "metadata": {},
   "outputs": [
    {
     "name": "stdout",
     "output_type": "stream",
     "text": [
      "False\n",
      "True\n"
     ]
    }
   ],
   "source": [
    "print(a != b) # False\n",
    "print(a != c) # True"
   ]
  },
  {
   "cell_type": "code",
   "execution_count": 6,
   "metadata": {},
   "outputs": [
    {
     "name": "stdout",
     "output_type": "stream",
     "text": [
      "False\n",
      "True\n",
      "False\n",
      "True\n",
      "True\n",
      "True\n"
     ]
    }
   ],
   "source": [
    "print(a < b) # False\n",
    "print(a <= b) # True\n",
    "print(a > b) # False\n",
    "print(a >= b) # True\n",
    "print(a > d) # True\n",
    "print(a < c) # True"
   ]
  }
 ],
 "metadata": {
  "kernelspec": {
   "display_name": "Python 3",
   "language": "python",
   "name": "python3"
  },
  "language_info": {
   "codemirror_mode": {
    "name": "ipython",
    "version": 3
   },
   "file_extension": ".py",
   "mimetype": "text/x-python",
   "name": "python",
   "nbconvert_exporter": "python",
   "pygments_lexer": "ipython3",
   "version": "3.10.1"
  }
 },
 "nbformat": 4,
 "nbformat_minor": 2
}
