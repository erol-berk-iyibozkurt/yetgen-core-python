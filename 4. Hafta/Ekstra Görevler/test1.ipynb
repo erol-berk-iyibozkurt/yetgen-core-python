{
 "cells": [
  {
   "cell_type": "code",
   "execution_count": 6,
   "metadata": {},
   "outputs": [
    {
     "name": "stdout",
     "output_type": "stream",
     "text": [
      "1 2 3\n"
     ]
    }
   ],
   "source": [
    "n = int(input(\"Give a number\"))\n",
    "a = []\n",
    "\n",
    "while 0 < n < 4:\n",
    "    a.append(n)\n",
    "    n = int(input(\"Give a number\"))\n",
    "print(*a)"
   ]
  },
  {
   "cell_type": "code",
   "execution_count": null,
   "metadata": {},
   "outputs": [],
   "source": [
    "n = print(*range(1,int(input(\"Give a number\"))+1), sep='')"
   ]
  },
  {
   "cell_type": "code",
   "execution_count": 13,
   "metadata": {},
   "outputs": [
    {
     "name": "stdout",
     "output_type": "stream",
     "text": [
      "12345\n"
     ]
    }
   ],
   "source": [
    "n = int(input(\"With which number do you want to learn 1 to the number?\"))\n",
    "a = []\n",
    "\n",
    "print(*range(1,n+1), sep='')"
   ]
  },
  {
   "cell_type": "code",
   "execution_count": 11,
   "metadata": {},
   "outputs": [
    {
     "name": "stdout",
     "output_type": "stream",
     "text": [
      "59\n"
     ]
    }
   ],
   "source": [
    "import random\n",
    "print(random.randint(0,100))"
   ]
  },
  {
   "cell_type": "code",
   "execution_count": 21,
   "metadata": {},
   "outputs": [
    {
     "name": "stdout",
     "output_type": "stream",
     "text": [
      "<class 'list'>\n",
      "[]\n"
     ]
    }
   ],
   "source": [
    "# Find the factorail of 10 = 3628800\n",
    "x = 10\n",
    "factorialsNumbers = []\n",
    "factorials = []\n",
    "print(type(factorialsNumbers))\n",
    "\n",
    "while x < 11:\n",
    "     factorialsNumbers = range(1,x)\n",
    "     factorials *= x\n",
    "     x += 1\n",
    "print(factorials)\n"
   ]
  },
  {
   "cell_type": "code",
   "execution_count": 23,
   "metadata": {},
   "outputs": [
    {
     "name": "stdout",
     "output_type": "stream",
     "text": [
      "3628800\n"
     ]
    }
   ],
   "source": [
    "# Find the factorail of 10 = 3628800\n",
    "factorail = 1\n",
    "x = 1\n",
    "\n",
    "while x < 11:\n",
    "    factorail *= x\n",
    "    x += 1\n",
    "print(factorail)\n",
    "\n"
   ]
  },
  {
   "cell_type": "code",
   "execution_count": 37,
   "metadata": {},
   "outputs": [
    {
     "name": "stdout",
     "output_type": "stream",
     "text": [
      "0\n"
     ]
    }
   ],
   "source": [
    "# Find the factorail of ...\n",
    "factorail = 1\n",
    "x = int(input(\"Find the factorial of \"))\n",
    "i = 1\n",
    "for i in range(x):\n",
    "    while i < x+1:\n",
    "        factorail = factorail * i\n",
    "        i += 1\n",
    "print(factorail)\n"
   ]
  }
 ],
 "metadata": {
  "kernelspec": {
   "display_name": "Python 3",
   "language": "python",
   "name": "python3"
  },
  "language_info": {
   "codemirror_mode": {
    "name": "ipython",
    "version": 3
   },
   "file_extension": ".py",
   "mimetype": "text/x-python",
   "name": "python",
   "nbconvert_exporter": "python",
   "pygments_lexer": "ipython3",
   "version": "3.12.4"
  }
 },
 "nbformat": 4,
 "nbformat_minor": 2
}
