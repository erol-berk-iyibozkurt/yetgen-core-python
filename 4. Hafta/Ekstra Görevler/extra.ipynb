{
 "cells": [
  {
   "cell_type": "code",
   "execution_count": 3,
   "metadata": {},
   "outputs": [
    {
     "name": "stdout",
     "output_type": "stream",
     "text": [
      "[10, 10, 15, 15, 15, 20, 20, 20, 20]\n",
      "[5]\n"
     ]
    }
   ],
   "source": [
    "l = [5,10,10,15,15,15,20,20,20,20]\n",
    "repeating = []\n",
    "uniq = []\n",
    "\n",
    "for num in l:\n",
    "    if l.count(num) > 1:\n",
    "        repeating.append(num)\n",
    "    else:\n",
    "        uniq.append(num)\n",
    "\n",
    "print(repeating)\n",
    "print(uniq) "
   ]
  },
  {
   "cell_type": "code",
   "execution_count": 6,
   "metadata": {},
   "outputs": [
    {
     "name": "stdout",
     "output_type": "stream",
     "text": [
      "[10, 10, 15, 15, 15, 20, 20, 20, 20]\n",
      "[5]\n",
      "[5, 10, 15, 20]\n"
     ]
    }
   ],
   "source": [
    "l = [5,10,10,15,15,15,20,20,20,20]\n",
    "repeating = []\n",
    "uniq = []\n",
    "base = []\n",
    "\n",
    "for num in l:\n",
    "    if l.count(num) > 1:\n",
    "        repeating.append(num)\n",
    "        if repeating.count(num) == 1:\n",
    "            base.append(num)\n",
    "        else:\n",
    "            continue\n",
    "    else:\n",
    "        uniq.append(num)\n",
    "        base.append(num)\n",
    "\n",
    "print(repeating)\n",
    "print(uniq) \n",
    "print(base)"
   ]
  }
 ],
 "metadata": {
  "kernelspec": {
   "display_name": "Python 3",
   "language": "python",
   "name": "python3"
  },
  "language_info": {
   "codemirror_mode": {
    "name": "ipython",
    "version": 3
   },
   "file_extension": ".py",
   "mimetype": "text/x-python",
   "name": "python",
   "nbconvert_exporter": "python",
   "pygments_lexer": "ipython3",
   "version": "3.12.4"
  }
 },
 "nbformat": 4,
 "nbformat_minor": 2
}
