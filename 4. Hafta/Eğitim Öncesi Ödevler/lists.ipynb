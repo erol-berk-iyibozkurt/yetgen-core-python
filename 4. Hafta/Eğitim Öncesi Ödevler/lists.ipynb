{
 "cells": [
  {
   "cell_type": "markdown",
   "metadata": {},
   "source": [
    "# <center> Lists - Listeler\n",
    "\n",
    "- keep within box brackets [ ] <br>\n",
    "köşeli prantez [ ] içinde tutulur\n",
    "- can do operations as index, data update, deleting or adding data <br>\n",
    "Indexleme, Veri güncelleme, silme ve ekleme gibi işlemler yapılabilir.\n",
    "- listing is possible nested <br>\n",
    "içi içe listeleme işlemi yapılabilir."
   ]
  },
  {
   "cell_type": "code",
   "execution_count": 6,
   "metadata": {},
   "outputs": [
    {
     "name": "stdout",
     "output_type": "stream",
     "text": [
      "['John', 'Amanda', 'Chris', 'Tom', 'Sarah']\n"
     ]
    }
   ],
   "source": [
    "leaders = [\"John\", \"Amanda\", \"Chris\", \"Tom\", \"Sarah\"]\n",
    "print(leaders)"
   ]
  },
  {
   "cell_type": "code",
   "execution_count": 2,
   "metadata": {},
   "outputs": [
    {
     "name": "stdout",
     "output_type": "stream",
     "text": [
      "John\n"
     ]
    }
   ],
   "source": [
    "print(leaders[0])"
   ]
  },
  {
   "cell_type": "code",
   "execution_count": 8,
   "metadata": {},
   "outputs": [
    {
     "name": "stdout",
     "output_type": "stream",
     "text": [
      "Sarah\n"
     ]
    }
   ],
   "source": [
    "print(leaders[-1])"
   ]
  },
  {
   "cell_type": "code",
   "execution_count": 6,
   "metadata": {},
   "outputs": [
    {
     "name": "stdout",
     "output_type": "stream",
     "text": [
      "['John', 'Amanda', 'Chris']\n"
     ]
    }
   ],
   "source": [
    "print(leaders[0:3])"
   ]
  },
  {
   "cell_type": "markdown",
   "metadata": {},
   "source": [
    "### List methods"
   ]
  },
  {
   "cell_type": "markdown",
   "metadata": {},
   "source": [
    "- **append():** <br>\n",
    "add element end of the list"
   ]
  },
  {
   "cell_type": "code",
   "execution_count": 10,
   "metadata": {},
   "outputs": [
    {
     "name": "stdout",
     "output_type": "stream",
     "text": [
      "['John', 'Amanda', 'Chris', 'Tom', 'Sarah', 'Nolan', 'Nolan']\n"
     ]
    }
   ],
   "source": [
    "leaders.append(\"Nolan\")\n",
    "print(leaders)"
   ]
  },
  {
   "cell_type": "markdown",
   "metadata": {},
   "source": [
    "- **remove():** <br>\n",
    "delete the element in the list"
   ]
  },
  {
   "cell_type": "code",
   "execution_count": 11,
   "metadata": {},
   "outputs": [
    {
     "name": "stdout",
     "output_type": "stream",
     "text": [
      "['John', 'Amanda', 'Chris', 'Tom', 'Sarah', 'Nolan']\n"
     ]
    }
   ],
   "source": [
    "leaders.remove(\"Nolan\")\n",
    "print(leaders)"
   ]
  },
  {
   "cell_type": "markdown",
   "metadata": {},
   "source": [
    "- **len():** <br>\n",
    "shows / returns the numbers of items in an object"
   ]
  },
  {
   "cell_type": "code",
   "execution_count": 13,
   "metadata": {},
   "outputs": [
    {
     "name": "stdout",
     "output_type": "stream",
     "text": [
      "6\n"
     ]
    }
   ],
   "source": [
    "print(len(leaders))"
   ]
  },
  {
   "cell_type": "code",
   "execution_count": 14,
   "metadata": {},
   "outputs": [
    {
     "name": "stdout",
     "output_type": "stream",
     "text": [
      "0\n"
     ]
    }
   ],
   "source": [
    "move = []\n",
    "print(len(move))"
   ]
  },
  {
   "cell_type": "markdown",
   "metadata": {},
   "source": [
    "- Change a item in the list"
   ]
  },
  {
   "cell_type": "code",
   "execution_count": 15,
   "metadata": {},
   "outputs": [
    {
     "name": "stdout",
     "output_type": "stream",
     "text": [
      "['John', 'Amanda', 'Chris', 'Tom', 'Sarah', 'Nolan', 'George']\n",
      "['John', 'Amanda', 'Chris', 'Tom', 'Sarah', 'Nolan', 'Robert']\n"
     ]
    }
   ],
   "source": [
    "leaders.append(\"George\")\n",
    "print(leaders)\n",
    "leaders[6] = \"Robert\"\n",
    "print(leaders)"
   ]
  },
  {
   "cell_type": "markdown",
   "metadata": {},
   "source": [
    "- **clear():** <br>\n",
    "clear all the items in the list"
   ]
  },
  {
   "cell_type": "code",
   "execution_count": 17,
   "metadata": {},
   "outputs": [
    {
     "name": "stdout",
     "output_type": "stream",
     "text": [
      "[1, 2, 3, 4, 5, 6, 7, 8, 9]\n",
      "[]\n"
     ]
    }
   ],
   "source": [
    "myGrade = [1,2,3,4,5,6,7,8,9]\n",
    "print(myGrade)\n",
    "myGrade.clear()\n",
    "print(myGrade)"
   ]
  },
  {
   "cell_type": "markdown",
   "metadata": {},
   "source": [
    "- **index():** <br>\n",
    "returns the position at the first occurrence of the specified value. <br>\n",
    "İstenilen veriyi arar, bulamazsa ValueError verir. (birden fazla aynı veride ilk veriyi bulur)"
   ]
  },
  {
   "cell_type": "code",
   "execution_count": 36,
   "metadata": {},
   "outputs": [
    {
     "name": "stdout",
     "output_type": "stream",
     "text": [
      "('London', 'Liverpool', 'Nottingham', 'Birmingham')\n",
      "Index of Nottingham is 2\n",
      "Index of London is  0\n"
     ]
    }
   ],
   "source": [
    "citiiesOfEngland = ((\"London\",\"Liverpool\",\"Nottingham\",\"Birmingham\"))\n",
    "print(citiiesOfEngland)\n",
    "print(\"Index of Nottingham is \" + str(citiiesOfEngland.index(\"Nottingham\")))\n",
    "print(\"Index of London is \",citiiesOfEngland.index(\"London\"))"
   ]
  },
  {
   "cell_type": "markdown",
   "metadata": {},
   "source": [
    "- **pop():** <br>\n",
    "index vermezse liste sonundaki elemanı siler <br>\n",
    "index veirirse indekslenen elemanı siler"
   ]
  },
  {
   "cell_type": "code",
   "execution_count": 38,
   "metadata": {},
   "outputs": [
    {
     "name": "stdout",
     "output_type": "stream",
     "text": [
      "[1, 2, 3, 4, 5]\n",
      "[1, 3, 4]\n"
     ]
    }
   ],
   "source": [
    "a1 = [1,2,3,4,5]\n",
    "print(a1)\n",
    "a1.pop()\n",
    "a1.pop(1)\n",
    "print(a1)"
   ]
  },
  {
   "cell_type": "markdown",
   "metadata": {},
   "source": [
    "- **insert():** <br>\n",
    "istenilen elemana eleman ekler\n",
    "index verilmezse başa ekler"
   ]
  },
  {
   "cell_type": "code",
   "execution_count": 43,
   "metadata": {},
   "outputs": [
    {
     "name": "stdout",
     "output_type": "stream",
     "text": [
      "[10, 1, 3, 4]\n"
     ]
    }
   ],
   "source": [
    "a1.insert(0, 10)\n",
    "print(a1)"
   ]
  },
  {
   "cell_type": "markdown",
   "metadata": {},
   "source": [
    "- **reverse():** <br>\n",
    "listeyi terse çevirir"
   ]
  },
  {
   "cell_type": "code",
   "execution_count": 49,
   "metadata": {},
   "outputs": [
    {
     "name": "stdout",
     "output_type": "stream",
     "text": [
      "[10, 1, 3, 4]\n",
      "[4, 3, 1, 10]\n"
     ]
    }
   ],
   "source": [
    "print(a1)\n",
    "a1.reverse()\n",
    "print(a1)\n"
   ]
  },
  {
   "cell_type": "markdown",
   "metadata": {},
   "source": [
    "- **sort():** <br>\n",
    "listeyi küçükten büyüğe doğru sıralar "
   ]
  },
  {
   "cell_type": "code",
   "execution_count": 50,
   "metadata": {},
   "outputs": [
    {
     "name": "stdout",
     "output_type": "stream",
     "text": [
      "[4, 3, 1, 10]\n",
      "[1, 3, 4, 10]\n"
     ]
    }
   ],
   "source": [
    "print(a1)\n",
    "a1.sort()\n",
    "print(a1)"
   ]
  },
  {
   "cell_type": "markdown",
   "metadata": {},
   "source": [
    "### Liste Toplama\n",
    "iki listeyi birleştirme"
   ]
  },
  {
   "cell_type": "code",
   "execution_count": 30,
   "metadata": {},
   "outputs": [
    {
     "name": "stdout",
     "output_type": "stream",
     "text": [
      "['Coco', 'Banana', 'Choco', 'biscuits']\n"
     ]
    }
   ],
   "source": [
    "list1 = [\"Coco\", \"Banana\"]\n",
    "list2 = [\"Choco\", \"biscuits\"]\n",
    "print(list1 + list2)"
   ]
  },
  {
   "cell_type": "code",
   "execution_count": 51,
   "metadata": {},
   "outputs": [
    {
     "name": "stdout",
     "output_type": "stream",
     "text": [
      "1\n",
      "5\n",
      "Bear\n",
      "4\n",
      "[6, 'z']\n",
      "6\n",
      "z\n",
      "<class 'list'>\n"
     ]
    }
   ],
   "source": [
    "nestedlist = [1,5,\"Bear\", 4,[6,\"z\"]]\n",
    "print(nestedlist[0])\n",
    "print(nestedlist[1])\n",
    "print(nestedlist[2])\n",
    "print(nestedlist[3])\n",
    "print(nestedlist[4])\n",
    "print(nestedlist[4][0])\n",
    "print(nestedlist[4][1])\n",
    "print(type(nestedlist))"
   ]
  }
 ],
 "metadata": {
  "kernelspec": {
   "display_name": "Python 3",
   "language": "python",
   "name": "python3"
  },
  "language_info": {
   "codemirror_mode": {
    "name": "ipython",
    "version": 3
   },
   "file_extension": ".py",
   "mimetype": "text/x-python",
   "name": "python",
   "nbconvert_exporter": "python",
   "pygments_lexer": "ipython3",
   "version": "3.12.4"
  }
 },
 "nbformat": 4,
 "nbformat_minor": 2
}
