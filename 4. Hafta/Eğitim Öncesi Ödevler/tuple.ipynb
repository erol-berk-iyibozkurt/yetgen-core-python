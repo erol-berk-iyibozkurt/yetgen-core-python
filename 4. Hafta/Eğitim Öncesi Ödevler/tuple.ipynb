{
 "cells": [
  {
   "cell_type": "markdown",
   "metadata": {},
   "source": [
    "# <center> Tuple (Demet)\n",
    "\n",
    "- Tuple elemanları değiştirilemez. Listelerde değişebilir.\n",
    "- Daha iyi bir data performası sağlar.\n",
    "- iç içe tuple oluşturulabilir. \n",
    "- Liste içinde tuple ya da tuple içinde liste oluşturulabilir.\n",
    "- Tanımlandıktan sonra değişmez, okunurlar.\n",
    "- Tek elemanlı ise virgül koyularak kullanılır."
   ]
  },
  {
   "cell_type": "code",
   "execution_count": 1,
   "metadata": {},
   "outputs": [
    {
     "name": "stdout",
     "output_type": "stream",
     "text": [
      "<class 'tuple'>\n"
     ]
    }
   ],
   "source": [
    "tuplelist = (2,4,6,\"Ankara\",[2,4,6])\n",
    "print(type(tuplelist))"
   ]
  },
  {
   "cell_type": "code",
   "execution_count": 3,
   "metadata": {},
   "outputs": [
    {
     "name": "stdout",
     "output_type": "stream",
     "text": [
      "(2, 4, 6, 'Ankara', [2, 4, 6])\n",
      "5\n"
     ]
    }
   ],
   "source": [
    "print(tuplelist)\n",
    "print(len(tuplelist))"
   ]
  },
  {
   "cell_type": "code",
   "execution_count": 4,
   "metadata": {},
   "outputs": [
    {
     "ename": "TypeError",
     "evalue": "'tuple' object does not support item assignment",
     "output_type": "error",
     "traceback": [
      "\u001b[0;31m---------------------------------------------------------------------------\u001b[0m",
      "\u001b[0;31mTypeError\u001b[0m                                 Traceback (most recent call last)",
      "Cell \u001b[0;32mIn[4], line 1\u001b[0m\n\u001b[0;32m----> 1\u001b[0m \u001b[43mtuplelist\u001b[49m\u001b[43m[\u001b[49m\u001b[38;5;241;43m0\u001b[39;49m\u001b[43m]\u001b[49m \u001b[38;5;241m=\u001b[39m \u001b[38;5;241m5\u001b[39m \n",
      "\u001b[0;31mTypeError\u001b[0m: 'tuple' object does not support item assignment"
     ]
    }
   ],
   "source": [
    "tuplelist[0] = 5 "
   ]
  },
  {
   "cell_type": "code",
   "execution_count": 8,
   "metadata": {},
   "outputs": [
    {
     "name": "stdout",
     "output_type": "stream",
     "text": [
      "Ankara\n",
      "(4,)\n"
     ]
    }
   ],
   "source": [
    "print(tuplelist[-2])\n",
    "print(tuplelist[1:2])"
   ]
  },
  {
   "cell_type": "markdown",
   "metadata": {},
   "source": [
    "### Set\n",
    "- Listelere benzer\n",
    "- En önemli özelliği indexsiz ve sırasız elemanlardan oluşmasıdır.\n",
    "- Veri tekrarı söz konusu değildir. Tüm elemanlar eşsizdir.\n",
    "- {} içersinde tanımlanır.\n",
    "- Çok hızlı bir veri tipidir."
   ]
  },
  {
   "cell_type": "code",
   "execution_count": 24,
   "metadata": {},
   "outputs": [
    {
     "name": "stdout",
     "output_type": "stream",
     "text": [
      "{'Ronaldo', 'Messi', 'Mbappe', 'Haaland'}\n",
      "<class 'set'>\n"
     ]
    }
   ],
   "source": [
    "footballer = {\"Ronaldo\",\"Messi\",\"Haaland\",\"Mbappe\"}\n",
    "print(footballer)\n",
    "print(type(footballer))"
   ]
  },
  {
   "cell_type": "code",
   "execution_count": 10,
   "metadata": {},
   "outputs": [
    {
     "name": "stdout",
     "output_type": "stream",
     "text": [
      "{'Ronaldo', 'Messi', 'Mbappe', 'Haaland'}\n",
      "<class 'set'>\n"
     ]
    }
   ],
   "source": [
    "footballer = {\"Ronaldo\",\"Messi\",\"Haaland\",\"Mbappe\", \"Messi\"} #adding second name: \"Messi\"\n",
    "print(footballer) # returns with only one \"Messi\"\n",
    "print(type(footballer))"
   ]
  },
  {
   "cell_type": "code",
   "execution_count": 11,
   "metadata": {},
   "outputs": [
    {
     "name": "stdout",
     "output_type": "stream",
     "text": [
      "{'Tuna', 'Ferda', 'ferda'}\n"
     ]
    }
   ],
   "source": [
    "name = {\"Ferda\",\"Tuna\",\"ferda\"}\n",
    "print(name)"
   ]
  },
  {
   "cell_type": "markdown",
   "metadata": {},
   "source": [
    "sets are not indexable"
   ]
  },
  {
   "cell_type": "code",
   "execution_count": 12,
   "metadata": {},
   "outputs": [
    {
     "ename": "TypeError",
     "evalue": "'set' object is not subscriptable",
     "output_type": "error",
     "traceback": [
      "\u001b[0;31m---------------------------------------------------------------------------\u001b[0m",
      "\u001b[0;31mTypeError\u001b[0m                                 Traceback (most recent call last)",
      "Cell \u001b[0;32mIn[12], line 1\u001b[0m\n\u001b[0;32m----> 1\u001b[0m \u001b[43mfootballer\u001b[49m\u001b[43m[\u001b[49m\u001b[38;5;241;43m0\u001b[39;49m\u001b[43m]\u001b[49m\n",
      "\u001b[0;31mTypeError\u001b[0m: 'set' object is not subscriptable"
     ]
    }
   ],
   "source": [
    "footballer[0]"
   ]
  },
  {
   "cell_type": "code",
   "execution_count": 17,
   "metadata": {},
   "outputs": [
    {
     "name": "stdout",
     "output_type": "stream",
     "text": [
      "Ronaldo\n",
      "Messi\n",
      "Mbappe\n",
      "Haaland\n"
     ]
    }
   ],
   "source": [
    "for x in footballer:\n",
    "    print(x)"
   ]
  },
  {
   "cell_type": "code",
   "execution_count": 18,
   "metadata": {},
   "outputs": [
    {
     "name": "stdout",
     "output_type": "stream",
     "text": [
      "{'Ronaldo', 'Messi', 'Mbappe', 'Haaland'}\n",
      "{'Ronaldo', 'Messi', 'Mbappe', 'Haaland'}\n",
      "{'Ronaldo', 'Messi', 'Mbappe', 'Haaland'}\n",
      "{'Ronaldo', 'Messi', 'Mbappe', 'Haaland'}\n"
     ]
    }
   ],
   "source": [
    "for x in footballer:\n",
    "    print(footballer)"
   ]
  },
  {
   "cell_type": "code",
   "execution_count": 19,
   "metadata": {},
   "outputs": [
    {
     "name": "stdout",
     "output_type": "stream",
     "text": [
      "True\n"
     ]
    }
   ],
   "source": [
    "print(\"Messi\" in footballer)"
   ]
  },
  {
   "cell_type": "markdown",
   "metadata": {},
   "source": [
    "### Set Methods (Set Metotları)\n",
    "\n",
    "- add(): sete eleman ekler\n",
    "- remove(): setten eleman siler\n",
    "- clear(): setin içindeki elemanları siler\n",
    "- pop(): setin son elemanını siler\n",
    "- update(): ete eleman ekler\n",
    "- union(): iki seti birleştirir\n",
    "- intersection(): iki setin kesişimini alır\n",
    "- difference(): iki setin farkını alır"
   ]
  },
  {
   "cell_type": "code",
   "execution_count": 26,
   "metadata": {},
   "outputs": [
    {
     "name": "stdout",
     "output_type": "stream",
     "text": [
      "{'Mbappe', 'Neuer', 'Ronaldo', 'Haaland', 'Unal', 'Hummels', 'Messi', 'Coman'}\n"
     ]
    }
   ],
   "source": [
    "footballer.add(\"Unal\")\n",
    "print(footballer)"
   ]
  },
  {
   "cell_type": "code",
   "execution_count": 27,
   "metadata": {},
   "outputs": [
    {
     "name": "stdout",
     "output_type": "stream",
     "text": [
      "{'Mbappe', 'Neuer', 'Ronaldo', 'Haaland', 'Unal', 'Hummels', 'Messi', 'Coman'}\n"
     ]
    }
   ],
   "source": [
    "footballer.update([\"Coman\",\"Neuer\",\"Hummels\"])\n",
    "print(footballer)"
   ]
  },
  {
   "cell_type": "code",
   "execution_count": 28,
   "metadata": {},
   "outputs": [
    {
     "name": "stdout",
     "output_type": "stream",
     "text": [
      "{'Mbappe', 'Neuer', 'Kroos', 'Ronaldo', 'Haaland', 'Unal', 'Hummels', 'Messi', 'Coman'}\n",
      "{'Mbappe', 'Neuer', 'Ronaldo', 'Haaland', 'Unal', 'Hummels', 'Messi', 'Coman'}\n"
     ]
    }
   ],
   "source": [
    "footballer.add(\"Kroos\")\n",
    "print(footballer)\n",
    "footballer.remove(\"Kroos\")\n",
    "print(footballer)"
   ]
  },
  {
   "cell_type": "code",
   "execution_count": 29,
   "metadata": {},
   "outputs": [
    {
     "name": "stdout",
     "output_type": "stream",
     "text": [
      "{'Mbappe', 'Neuer', 'Ronaldo', 'Suarez', 'Haaland', 'Unal', 'Hummels', 'Messi', 'Coman'}\n",
      "{'Neuer', 'Ronaldo', 'Suarez', 'Haaland', 'Unal', 'Hummels', 'Messi', 'Coman'}\n"
     ]
    }
   ],
   "source": [
    "footballer.add(\"Suarez\")\n",
    "print(footballer)\n",
    "footballer.pop()\n",
    "print(footballer)"
   ]
  },
  {
   "cell_type": "code",
   "execution_count": 30,
   "metadata": {},
   "outputs": [
    {
     "data": {
      "text/plain": [
       "{1, 2, 3, 4}"
      ]
     },
     "execution_count": 30,
     "metadata": {},
     "output_type": "execute_result"
    }
   ],
   "source": [
    "set1 = {1,2,3}\n",
    "set2 = {2,3,4}\n",
    "set1.union(set2)"
   ]
  },
  {
   "cell_type": "code",
   "execution_count": 34,
   "metadata": {},
   "outputs": [
    {
     "name": "stdout",
     "output_type": "stream",
     "text": [
      "{2, 3}\n"
     ]
    }
   ],
   "source": [
    "set1 = {1,2,3}\n",
    "set2 = {2,3,4}\n",
    "print(set1.intersection(set2))"
   ]
  },
  {
   "cell_type": "code",
   "execution_count": 33,
   "metadata": {},
   "outputs": [
    {
     "name": "stdout",
     "output_type": "stream",
     "text": [
      "{1}\n",
      "{4}\n"
     ]
    }
   ],
   "source": [
    "set1 = {1,2,3}\n",
    "set2 = {2,3,4}\n",
    "print(set1.difference(set2))\n",
    "print(set2.difference(set1))"
   ]
  },
  {
   "cell_type": "code",
   "execution_count": 35,
   "metadata": {},
   "outputs": [
    {
     "data": {
      "text/plain": [
       "set()"
      ]
     },
     "execution_count": 35,
     "metadata": {},
     "output_type": "execute_result"
    }
   ],
   "source": [
    "set1.clear()\n",
    "set1"
   ]
  },
  {
   "cell_type": "code",
   "execution_count": 36,
   "metadata": {},
   "outputs": [
    {
     "data": {
      "text/plain": [
       "{2, 3, 4}"
      ]
     },
     "execution_count": 36,
     "metadata": {},
     "output_type": "execute_result"
    }
   ],
   "source": [
    "set2"
   ]
  }
 ],
 "metadata": {
  "kernelspec": {
   "display_name": "Python 3",
   "language": "python",
   "name": "python3"
  },
  "language_info": {
   "codemirror_mode": {
    "name": "ipython",
    "version": 3
   },
   "file_extension": ".py",
   "mimetype": "text/x-python",
   "name": "python",
   "nbconvert_exporter": "python",
   "pygments_lexer": "ipython3",
   "version": "3.12.4"
  }
 },
 "nbformat": 4,
 "nbformat_minor": 2
}
