{
 "cells": [
  {
   "attachments": {},
   "cell_type": "markdown",
   "metadata": {},
   "source": [
    "# Problem 1\n",
    "\n",
    "Şimdi beraber kullanıcılardan aldığımız verileri işleyerek, onlara hem çıktı verecek, hem de aldığımız ve hesapladığımız verileri ileride kullanabilmek adına kaydedeceğiz.\n",
    "\n",
    "\n",
    " **Bu bir veri giriş platformu olacak**\n",
    "\n",
    "\n",
    " * kullanıcıya kaç giriş yapacağını soracağız\n",
    "* kullanıcıdan isim-soyisim, yaş, boy, kilo bilgilerini alarak VKİ hesaplayacağız\n",
    "* ardından bunları sınıflara göre kaydedeceğiz bir dosyaya kaydedeceğiz\n",
    "\n",
    "\n",
    "Sınıflar ise şu şekilde: \n",
    "* 18, 5 kg/m.'nin altında olanlar: Zayıf\n",
    "* 18.5 – 24, 9 kg/m. arasında olanlar: Normal kilolu\n",
    "* 25 – 29, 9 kg/m. arasında olanlar: Fazla kilolu\n",
    "* 30 – 39, 9 kg/m. arasında olanlar: Obez\n",
    "* 40 kg/m.'nin üzerinde olanlar: İleri derecede obez (morbid obez), olarak görülür."
   ]
  },
  {
   "cell_type": "code",
   "execution_count": 2,
   "metadata": {},
   "outputs": [
    {
     "ename": "TypeError",
     "evalue": "dict.keys() takes no arguments (1 given)",
     "output_type": "error",
     "traceback": [
      "\u001b[0;31m---------------------------------------------------------------------------\u001b[0m",
      "\u001b[0;31mTypeError\u001b[0m                                 Traceback (most recent call last)",
      "Cell \u001b[0;32mIn[2], line 9\u001b[0m\n\u001b[1;32m      6\u001b[0m weight \u001b[38;5;241m=\u001b[39m \u001b[38;5;28mfloat\u001b[39m(\u001b[38;5;28minput\u001b[39m(\u001b[38;5;124m\"\u001b[39m\u001b[38;5;124mYour weight is \u001b[39m\u001b[38;5;124m\"\u001b[39m))\n\u001b[1;32m      8\u001b[0m \u001b[38;5;66;03m# matching the inputs\u001b[39;00m\n\u001b[0;32m----> 9\u001b[0m \u001b[43mdata_list\u001b[49m\u001b[38;5;241;43m.\u001b[39;49m\u001b[43mkeys\u001b[49m\u001b[43m(\u001b[49m\u001b[43mname\u001b[49m\u001b[43m)\u001b[49m\n\u001b[1;32m     10\u001b[0m data_list\u001b[38;5;241m.\u001b[39mitems(age,height,weight)\n\u001b[1;32m     12\u001b[0m \u001b[38;5;28mprint\u001b[39m(data_list)\n",
      "\u001b[0;31mTypeError\u001b[0m: dict.keys() takes no arguments (1 given)"
     ]
    }
   ],
   "source": [
    "data_list = {}\n",
    "# inputs\n",
    "attempt = 1 \n",
    "for i in range(attempt):\n",
    "    name = input(\"Your name and surname:\")\n",
    "    age = int(input(\"Your age is \"))\n",
    "    height = float(input(\"Your height is \"))\n",
    "    weight = float(input(\"Your weight is \"))\n",
    "\n",
    "# matching the inputs\n",
    "data_list.keys(name)\n",
    "data_list.items(age,height,weight)\n",
    "\n",
    "print(data_list)\n",
    "\n",
    "def calculateBMI():\n",
    "    pass"
   ]
  },
  {
   "cell_type": "code",
   "execution_count": 1,
   "metadata": {},
   "outputs": [
    {
     "ename": "IndentationError",
     "evalue": "expected an indented block after 'if' statement on line 12 (330195504.py, line 15)",
     "output_type": "error",
     "traceback": [
      "\u001b[0;36m  Cell \u001b[0;32mIn[1], line 15\u001b[0;36m\u001b[0m\n\u001b[0;31m    while age.isdigit() == True:\u001b[0m\n\u001b[0m    ^\u001b[0m\n\u001b[0;31mIndentationError\u001b[0m\u001b[0;31m:\u001b[0m expected an indented block after 'if' statement on line 12\n"
     ]
    }
   ],
   "source": [
    "data_list = {}\n",
    "\n",
    "\n",
    "class FindBMI:\n",
    "    def save_data():\n",
    "        name = input(\"Your name and surname:\")\n",
    "        age = input(\"Your age is \")\n",
    "        height = input(\"Your height is \")\n",
    "        weight = input(\"Your weight is \")\n",
    "\n",
    "        # check up the name input\n",
    "        if isinstance(name,str) == True:\n",
    "\n",
    "        # check up the age input\n",
    "        if age.isdigit() == True:\n",
    "            pass\n",
    "        else:\n",
    "            print()\n",
    "            continue\n",
    "\n",
    "        # check up the height input\n",
    "        if height.isdigit() == True:\n",
    "            if \".\" or \",\" in height:\n",
    "                if \".\" in height:\n",
    "                    height.zip()\n",
    "                elif \",\" in height:\n",
    "\n",
    "                else:\n",
    "                    \n",
    "        # check up the weight input\n",
    "\n",
    "\n",
    "\n",
    "# add all the other variables to the dict and organize as key of \"name\"\n",
    "\n"
   ]
  },
  {
   "attachments": {},
   "cell_type": "markdown",
   "metadata": {},
   "source": [
    "# Problem 2\n",
    "**YetBar - Smoothie Bank**\n",
    "---\n",
    "YetBar spor salonunun girişinde bulunan, insansız bir sağlıklı içecek otomatıdır. Kullanıcı çeşitli girdiler smoothie içeceğine koyacağı ürünleri belirleyebilir, fiyat hesaplaması yaptırabilir ya da sadece menüyü görüntüleyebilir.\n",
    "\n",
    "**Projenin Amacı:**\n",
    "\n",
    "*   Birbirini etkileyen ve bir kod içerisinde birden fazla defa başvurulacak fonksiyonların oluşturulup, \"fonksiyonel\" proglamlamak.\n",
    "*   Büyük programları yazarken, yazılımcı olarak yapabileceğimiz hatalardan kaçınmak için kontrol yöntemleri geliştirmek.\n",
    "*   Kullanıcı inputlarını ve yaptığımız hesapları, raporlamak/loglamak amacıyla kaydetmek.\n",
    "\n",
    "**Programdan Beklenen Çıktılar**\n",
    "* Program kullanıcıya temelde 2 farklı işlem yapma imkanı sağlar.\n",
    "> 1. Menüyü görüntüleme\n",
    "> 3. Satın alma\n",
    "* Satın alınan her içecek tarih, fiyat bilgisi ile kaydedilmeli ve her zaman ulaşılabilir olmalıdır.\n",
    "\n",
    "\n"
   ]
  },
  {
   "cell_type": "code",
   "execution_count": null,
   "metadata": {},
   "outputs": [],
   "source": [
    "'''\n",
    "SMOOTHIE VENDING MACHINE\n",
    "\n",
    "* the requirement of the instruction:\n",
    "class\n",
    "try - except\n",
    "dict / list\n",
    "\n",
    "in loop --> goes to the beginnig at the end\n",
    "\n",
    "* Functions:\n",
    "choose the taste of smoothie\n",
    "make the sum of the cart (add items to cart)\n",
    "make possible showing only the menu\n",
    "\n",
    "* Two operations:\n",
    "1. showing menu\n",
    "2. purchasing the selected item/s\n",
    "\n",
    "* Saving data in the system:\n",
    "- the name of items\n",
    "- date\n",
    "- price\n",
    "--- data should always be visible --- \n",
    "'''\n",
    "\n"
   ]
  }
 ],
 "metadata": {
  "kernelspec": {
   "display_name": "Python 3",
   "language": "python",
   "name": "python3"
  },
  "language_info": {
   "codemirror_mode": {
    "name": "ipython",
    "version": 3
   },
   "file_extension": ".py",
   "mimetype": "text/x-python",
   "name": "python",
   "nbconvert_exporter": "python",
   "pygments_lexer": "ipython3",
   "version": "3.12.4"
  },
  "orig_nbformat": 4,
  "vscode": {
   "interpreter": {
    "hash": "5026d2d6e7aaaaba093def813beadff083d8733e4a511af01735cbabd156995d"
   }
  }
 },
 "nbformat": 4,
 "nbformat_minor": 2
}
