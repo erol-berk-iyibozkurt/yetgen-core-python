{
 "cells": [
  {
   "attachments": {},
   "cell_type": "markdown",
   "metadata": {},
   "source": [
    "# Problem 1\n",
    "\n",
    "Şimdi beraber kullanıcılardan aldığımız verileri işleyerek, onlara hem çıktı verecek, hem de aldığımız ve hesapladığımız verileri ileride kullanabilmek adına kaydedeceğiz.\n",
    "\n",
    "\n",
    " **Bu bir veri giriş platformu olacak**\n",
    "\n",
    "\n",
    " * kullanıcıya kaç giriş yapacağını soracağız\n",
    "* kullanıcıdan isim-soyisim, yaş, boy, kilo bilgilerini alarak VKİ hesaplayacağız\n",
    "* ardından bunları sınıflara göre kaydedeceğiz bir dosyaya kaydedeceğiz\n",
    "\n",
    "\n",
    "Sınıflar ise şu şekilde: \n",
    "* 18, 5 kg/m.'nin altında olanlar: Zayıf\n",
    "* 18.5 – 24, 9 kg/m. arasında olanlar: Normal kilolu\n",
    "* 25 – 29, 9 kg/m. arasında olanlar: Fazla kilolu\n",
    "* 30 – 39, 9 kg/m. arasında olanlar: Obez\n",
    "* 40 kg/m.'nin üzerinde olanlar: İleri derecede obez (morbid obez), olarak görülür."
   ]
  },
  {
   "cell_type": "markdown",
   "metadata": {},
   "source": [
    "### First idea:"
   ]
  },
  {
   "cell_type": "code",
   "execution_count": 5,
   "metadata": {},
   "outputs": [
    {
     "ename": "IndentationError",
     "evalue": "expected an indented block after 'if' statement on line 12 (2172565024.py, line 15)",
     "output_type": "error",
     "traceback": [
      "\u001b[0;36m  Cell \u001b[0;32mIn[5], line 15\u001b[0;36m\u001b[0m\n\u001b[0;31m    if age.isdigit() == True:\u001b[0m\n\u001b[0m    ^\u001b[0m\n\u001b[0;31mIndentationError\u001b[0m\u001b[0;31m:\u001b[0m expected an indented block after 'if' statement on line 12\n"
     ]
    }
   ],
   "source": [
    "data_list = {}\n",
    "\n",
    "\n",
    "class FindBMI:\n",
    "    def save_data():\n",
    "        name = input(\"Your name and surname:\")\n",
    "        age = input(\"Your age is \")\n",
    "        height = input(\"Your height is \")\n",
    "        weight = input(\"Your weight is \")\n",
    "\n",
    "        # check up the name input\n",
    "        if isinstance(name,str) == True:\n",
    "\n",
    "        # check up the age input\n",
    "        if age.isdigit() == True:\n",
    "            pass\n",
    "        else:\n",
    "            print()\n",
    "            continue\n",
    "\n",
    "        # check up the height input\n",
    "        if height.isdigit() == True:\n",
    "            if \".\" or \",\" in height:\n",
    "                if \".\" in height:\n",
    "                    height.zip()\n",
    "                elif \",\" in height:\n",
    "                    pass\n",
    "                else:\n",
    "                    pass\n",
    "        # check up the weight input\n",
    "\n",
    "\n",
    "\n",
    "# add all the other variables to the dict and organize as key of \"name\""
   ]
  },
  {
   "cell_type": "markdown",
   "metadata": {},
   "source": [
    "### Second idea:"
   ]
  },
  {
   "cell_type": "code",
   "execution_count": 1,
   "metadata": {},
   "outputs": [
    {
     "ename": "IndentationError",
     "evalue": "expected an indented block after function definition on line 6 (1431133677.py, line 7)",
     "output_type": "error",
     "traceback": [
      "\u001b[0;36m  Cell \u001b[0;32mIn[1], line 7\u001b[0;36m\u001b[0m\n\u001b[0;31m    name = input(\"Your name and surname:\")\u001b[0m\n\u001b[0m    ^\u001b[0m\n\u001b[0;31mIndentationError\u001b[0m\u001b[0;31m:\u001b[0m expected an indented block after function definition on line 6\n"
     ]
    }
   ],
   "source": [
    "# --- The BMI calculation project --- \n",
    "\n",
    "# the main data list\n",
    "data_list = {}\n",
    "# inputs\n",
    "attempt = int(input(\"How many times do you want to try?\"))\n",
    "class BMI_calculation(): \n",
    "    def __init__(self,name ,age , height, weight):\n",
    "        name = input(\"Your name and surname:\")\n",
    "        age = int(input(\"Your age is \"))\n",
    "        height = float(input(\"Your height is \"))\n",
    "        weight = float(input(\"Your weight is \"))\n",
    "    # matching the inputs\n",
    "    def StoreData():\n",
    "        data_list.keys(name)\n",
    "        data_list.items(age,height,weight)\n",
    "\n",
    "    print(data_list)\n",
    "\n",
    "    def calculateBMI():\n",
    "        for a in (len(data_list.keys())):\n",
    "            bmi = weight / height**2\n",
    "\n",
    "    def determinate_BMI_Index():\n",
    "        result_of_BMI = {}\n",
    "        for b in range(len(data_list.keys())):\n",
    "            if \n",
    "\n",
    "\n",
    "        result_of_BMI[b] = \n"
   ]
  },
  {
   "cell_type": "markdown",
   "metadata": {},
   "source": [
    "### End:"
   ]
  },
  {
   "cell_type": "code",
   "execution_count": 4,
   "metadata": {},
   "outputs": [
    {
     "name": "stdout",
     "output_type": "stream",
     "text": [
      "{'Ali Küçük': {'Age': 26, 'Height': 1.8, 'Weight': 79.0, 'BMI': 24.382716049382715, 'Category': 'Normal weight'}, 'Tugay Panter': {'Age': 28, 'Height': 1.78, 'Weight': 75.0, 'BMI': 23.671253629592222, 'Category': 'Normal weight'}}\n"
     ]
    }
   ],
   "source": [
    "class UserInfo:\n",
    "    def __init__(self, name, age, height, weight):\n",
    "        self.name = name\n",
    "        self.age = age\n",
    "        self.height = height\n",
    "        self.weight = weight\n",
    "\n",
    "    def calculate_bmi(self):\n",
    "        bmi = self.weight / (self.height ** 2)\n",
    "        return bmi\n",
    "\n",
    "    def get_bmi_category(self, bmi):\n",
    "        if bmi < 18.5:\n",
    "            return \"Underweight\"\n",
    "        elif 18.5 <= bmi < 25:\n",
    "            return \"Normal weight\"\n",
    "        elif 25 <= bmi < 30:\n",
    "            return \"Overweight\"\n",
    "        elif 30 <= bmi < 40:\n",
    "            return \"Obese\"\n",
    "        else:\n",
    "            return \"Severely obese (morbidly obese)\"\n",
    "\n",
    "def get_user_data():\n",
    "    name = input(\"Name and surname: \")\n",
    "    age = int(input(\"Age: \"))\n",
    "    height = float(input(\"Height (in meters): \"))\n",
    "    weight = float(input(\"Weight: \"))\n",
    "    return name, age, height, weight\n",
    "\n",
    "def save_to_file(data_list):\n",
    "    with open(\"bmi_sheet.txt\", \"w\") as file:\n",
    "        for name, info in data_list.items():\n",
    "            file.write(f\"{name}\\n\")\n",
    "            for key, value in info.items():\n",
    "                file.write(f\"{key}: {value}\\n\")\n",
    "            file.write('-' * 20 + '\\n')\n",
    "\n",
    "def main():\n",
    "    data_list = {}\n",
    "    attempt = int(input(\"How many entries do you want to make? \"))\n",
    "\n",
    "    for _ in range(attempt):\n",
    "        name, age, height, weight = get_user_data()\n",
    "        user = UserInfo(name, age, height, weight)\n",
    "        bmi = user.calculate_bmi()\n",
    "        category = user.get_bmi_category(bmi)\n",
    "        data_list[name.title()] = {\n",
    "            \"Age\": age,\n",
    "            \"Height\": height,\n",
    "            \"Weight\": weight,\n",
    "            \"BMI\": bmi,\n",
    "            \"Category\": category\n",
    "        }\n",
    "\n",
    "    print(data_list)\n",
    "    save_to_file(data_list)\n",
    "\n",
    "if __name__ == \"__main__\":\n",
    "    main()\n"
   ]
  },
  {
   "attachments": {},
   "cell_type": "markdown",
   "metadata": {},
   "source": [
    "# Problem 2\n",
    "**YetBar - Smoothie Bank**\n",
    "---\n",
    "YetBar spor salonunun girişinde bulunan, insansız bir sağlıklı içecek otomatıdır. Kullanıcı çeşitli girdiler smoothie içeceğine koyacağı ürünleri belirleyebilir, fiyat hesaplaması yaptırabilir ya da sadece menüyü görüntüleyebilir.\n",
    "\n",
    "**Projenin Amacı:**\n",
    "\n",
    "*   Birbirini etkileyen ve bir kod içerisinde birden fazla defa başvurulacak fonksiyonların oluşturulup, \"fonksiyonel\" proglamlamak.\n",
    "*   Büyük programları yazarken, yazılımcı olarak yapabileceğimiz hatalardan kaçınmak için kontrol yöntemleri geliştirmek.\n",
    "*   Kullanıcı inputlarını ve yaptığımız hesapları, raporlamak/loglamak amacıyla kaydetmek.\n",
    "\n",
    "**Programdan Beklenen Çıktılar**\n",
    "* Program kullanıcıya temelde 2 farklı işlem yapma imkanı sağlar.\n",
    "> 1. Menüyü görüntüleme\n",
    "> 3. Satın alma\n",
    "* Satın alınan her içecek tarih, fiyat bilgisi ile kaydedilmeli ve her zaman ulaşılabilir olmalıdır.\n",
    "\n",
    "\n"
   ]
  },
  {
   "cell_type": "code",
   "execution_count": null,
   "metadata": {},
   "outputs": [],
   "source": [
    "'''\n",
    "SMOOTHIE VENDING MACHINE\n",
    "\n",
    "* the requirement of the instruction:\n",
    "class\n",
    "try - except\n",
    "dict / list\n",
    "\n",
    "in loop --> goes to the beginnig at the end\n",
    "\n",
    "* Functions:\n",
    "choose the taste of smoothie\n",
    "make the sum of the cart (add items to cart)\n",
    "make possible showing only the menu\n",
    "\n",
    "* Two operations:\n",
    "1. showing menu\n",
    "2. purchasing the selected item/s\n",
    "\n",
    "* Saving data in the system:\n",
    "- the name of items\n",
    "- date\n",
    "- price\n",
    "--- data should always be visible --- \n",
    "'''\n"
   ]
  },
  {
   "cell_type": "code",
   "execution_count": null,
   "metadata": {},
   "outputs": [],
   "source": [
    "import time\n",
    "\n",
    "def bmi_calculation(weight, height):\n",
    "    bmi = weight / (height ** 2)\n",
    "    return round(bmi, 1)\n",
    "\n",
    "def bmi_category(bmi):\n",
    "    if bmi < 18.5:\n",
    "        return \"underweight\"\n",
    "    elif bmi <= 24.9:\n",
    "        return \"normal weight\"\n",
    "    elif bmi <= 29.9:\n",
    "        return \"overweight\"\n",
    "    elif bmi <= 39.9:\n",
    "        return \"obese\"\n",
    "    else:\n",
    "        return \"severely obese\"\n",
    "\n",
    "def generate_output(name, age, weight, height, bmi, category):\n",
    "    record_date = time.ctime(time.time())\n",
    "    t1 = f\"User name: {name}\\n\"\n",
    "    t2 = f\"User's age, weight, height: {age}, {weight}, {height}\\n\"\n",
    "    t3 = f\"User's BMI: {bmi}\\n\"\n",
    "    t4 = f\"BMI category: {category}\\n\"\n",
    "    t5 = f\"Record date: {record_date}\\n\"\n",
    "    output = t1 + t2 + t3 + t4 + t5\n",
    "    return output\n",
    "\n",
    "def main():\n",
    "    num_entries = int(input(\"How many user entries will you input?: \"))\n",
    "    for i in range(num_entries):\n",
    "        print(f\"User entry {i+1}\")\n",
    "        name = input(\"Name and surname: \").title()\n",
    "        age = int(input(\"Age: \"))\n",
    "        weight = float(input(\"Weight (kg): \"))\n",
    "        height = float(input(\"Height (m): \"))\n",
    "        bmi = bmi_calculation(weight, height)\n",
    "        category = bmi_category(bmi)\n",
    "        output = generate_output(name, age, weight, height, bmi, category)\n",
    "        with open(\"health.txt\", \"a\") as f:\n",
    "            f.write(output)\n",
    "            f.write(\"*\" * 20)\n",
    "            f.write(\"\\n\")\n",
    "            print(\"User recorded.\")\n",
    "    print(\"Data has been saved to 'health.txt'.\\n\")\n",
    "\n",
    "main()"
   ]
  }
 ],
 "metadata": {
  "kernelspec": {
   "display_name": "Python 3",
   "language": "python",
   "name": "python3"
  },
  "language_info": {
   "codemirror_mode": {
    "name": "ipython",
    "version": 3
   },
   "file_extension": ".py",
   "mimetype": "text/x-python",
   "name": "python",
   "nbconvert_exporter": "python",
   "pygments_lexer": "ipython3",
   "version": "3.12.4"
  },
  "orig_nbformat": 4,
  "vscode": {
   "interpreter": {
    "hash": "5026d2d6e7aaaaba093def813beadff083d8733e4a511af01735cbabd156995d"
   }
  }
 },
 "nbformat": 4,
 "nbformat_minor": 2
}
