{
 "cells": [
  {
   "cell_type": "markdown",
   "metadata": {},
   "source": [
    "# <center> Dosya işlemleri"
   ]
  },
  {
   "cell_type": "markdown",
   "metadata": {},
   "source": [
    "## Dosya Açma / Okuma"
   ]
  },
  {
   "cell_type": "code",
   "execution_count": 1,
   "metadata": {},
   "outputs": [
    {
     "name": "stdout",
     "output_type": "stream",
     "text": [
      "<_io.TextIOWrapper name='readThisFile.txt' mode='r' encoding='utf-8'>\n",
      "Hi fellows,\n",
      "\n",
      "Just do it!\n",
      "\n",
      "You are coming so far and you did that with your \"lider\" and your friends.\n",
      "\n",
      "And... It is the time...\n",
      "\n",
      "That develops some projects :)\n",
      "\n",
      "Be your real self and remember...\n",
      "\n",
      "\"Just do it!\"\n",
      "\n",
      "\n",
      "\n",
      "Not have good day, have a great day <3\n",
      "\n",
      "Take care\n"
     ]
    }
   ],
   "source": [
    "try:\n",
    "    openafile = open(\"readThisFile.txt\")\n",
    "    print(openafile)\n",
    "    for i in openafile:\n",
    "        print(i)\n",
    "    openafile.close\n",
    "except:\n",
    "    print(\"You did something wrong. Please check your code.\")"
   ]
  },
  {
   "cell_type": "markdown",
   "metadata": {},
   "source": [
    "**! Önemli:** utf-8 Türkçe karakterlerin okunabileceği okuma türü"
   ]
  },
  {
   "cell_type": "markdown",
   "metadata": {},
   "source": [
    "- open() <br>\n",
    "`open(\"file name\",\"r\" (for read mode), encoding= \"utf-8\")`\n",
    "- filename.close()\n",
    "- filename.read() <br>\n",
    "` showfilecontent = filename.read()` <br>\n",
    "` print(\"text\\n\", showfilecontent, sep= \" \")` <br>\n",
    "read okudultan sonra imleci sona gider. İkinci talepte boş döndürür\n"
   ]
  },
  {
   "cell_type": "code",
   "execution_count": 3,
   "metadata": {},
   "outputs": [
    {
     "name": "stdout",
     "output_type": "stream",
     "text": [
      "The content of the file is ...\n",
      " Hi fellows,\n",
      "Just do it!\n",
      "You are coming so far and you did that with your \"lider\" and your friends.\n",
      "And... It is the time...\n",
      "That develops some projects :)\n",
      "Be your real self and remember...\n",
      "\"Just do it!\"\n",
      "\n",
      "Not have good day, have a great day <3\n",
      "Take care\n"
     ]
    }
   ],
   "source": [
    "myFile = open(\"readThisFile.txt\")\n",
    "showfilecontent = myFile.read()\n",
    "print(\"The content of the file is ...\\n\", showfilecontent, sep= \" \")"
   ]
  },
  {
   "cell_type": "markdown",
   "metadata": {},
   "source": [
    "- readline() <br>\n",
    "tek satır okumayı sağlar"
   ]
  },
  {
   "cell_type": "code",
   "execution_count": 8,
   "metadata": {},
   "outputs": [
    {
     "name": "stdout",
     "output_type": "stream",
     "text": [
      "Hi fellows,\n",
      "\n"
     ]
    }
   ],
   "source": [
    "myFile = open(\"readThisFile.txt\")\n",
    "print(myFile.readline())"
   ]
  },
  {
   "cell_type": "code",
   "execution_count": 9,
   "metadata": {},
   "outputs": [
    {
     "name": "stdout",
     "output_type": "stream",
     "text": [
      "Just do it!\n",
      "\n"
     ]
    }
   ],
   "source": [
    "print(myFile.readline())"
   ]
  },
  {
   "cell_type": "code",
   "execution_count": 10,
   "metadata": {},
   "outputs": [
    {
     "name": "stdout",
     "output_type": "stream",
     "text": [
      "You are coming so far and you did that with your \"lider\" and your friends.\n",
      "\n"
     ]
    }
   ],
   "source": [
    "print(myFile.readline())"
   ]
  },
  {
   "cell_type": "markdown",
   "metadata": {},
   "source": [
    "- ### `readlines()` <br>\n",
    "Liste halinde bütün satırları döndürür"
   ]
  },
  {
   "cell_type": "code",
   "execution_count": 11,
   "metadata": {},
   "outputs": [
    {
     "name": "stdout",
     "output_type": "stream",
     "text": [
      "['And... It is the time...\\n', 'That develops some projects :)\\n', 'Be your real self and remember...\\n', '\"Just do it!\"\\n', '\\n', 'Not have good day, have a great day <3\\n', 'Take care']\n"
     ]
    }
   ],
   "source": [
    "print(myFile.readlines())"
   ]
  },
  {
   "cell_type": "markdown",
   "metadata": {},
   "source": [
    "## Dosya Yazma"
   ]
  },
  {
   "cell_type": "markdown",
   "metadata": {},
   "source": [
    "- `\"r\"`: okuma modu\n",
    "\n",
    "- `\"w\"`: yazma modu\n",
    "\n",
    "- `filename.write()`"
   ]
  },
  {
   "cell_type": "code",
   "execution_count": 21,
   "metadata": {},
   "outputs": [],
   "source": [
    "myWriteFile = open(\"writeToFile.txt\",\"w\",encoding=\"utf-8\")\n",
    "myWriteFile.write(\"YetGen\\n\")\n",
    "myWriteFile.close()"
   ]
  },
  {
   "cell_type": "markdown",
   "metadata": {},
   "source": [
    "- `a`: append (ekleme) modudur. Dosya konumda varsa oluşturur ve ekleme işlemini yapar.\n",
    "- `r+`: hem okuma hem de yazma modudur. Dosya konumda yoksa hata verir."
   ]
  },
  {
   "cell_type": "code",
   "execution_count": 22,
   "metadata": {},
   "outputs": [],
   "source": [
    "myWriteFile = open(\"writeToFile.txt\",\"a\",encoding=\"utf-8\")\n",
    "myWriteFile.write(\"Jump\\n\")\n",
    "myWriteFile.close()"
   ]
  },
  {
   "cell_type": "code",
   "execution_count": 23,
   "metadata": {},
   "outputs": [],
   "source": [
    "myWriteFile = open(\"writeToFile.txt\",\"r+\",encoding=\"utf-8\")\n",
    "myWriteFile.write(\"Python\\n\")\n",
    "myWriteFile.read()\n",
    "myWriteFile.close()"
   ]
  },
  {
   "cell_type": "markdown",
   "metadata": {},
   "source": [
    "## Dosya Otomatik Kapama"
   ]
  },
  {
   "cell_type": "markdown",
   "metadata": {},
   "source": [
    "- `with open(\"filename\", \"mode\") as file:`<br>\n",
    "`file operations`"
   ]
  },
  {
   "cell_type": "code",
   "execution_count": 12,
   "metadata": {},
   "outputs": [
    {
     "name": "stdout",
     "output_type": "stream",
     "text": [
      "Hi fellows,\n",
      "\n",
      "Just do it!\n",
      "\n",
      "You are coming so far and you did that with your \"lider\" and your friends.\n",
      "\n",
      "And... It is the time...\n",
      "\n",
      "That develops some projects :)\n",
      "\n",
      "Be your real self and remember...\n",
      "\n",
      "\"Just do it!\"\n",
      "\n",
      "\n",
      "\n",
      "Not have good day, have a great day <3\n",
      "\n",
      "Take care\n"
     ]
    }
   ],
   "source": [
    "with open(\"readThisFile.txt\", \"r\", encoding=\"utf-8\") as file1:\n",
    "    for i in file1:\n",
    "        print(i)"
   ]
  },
  {
   "cell_type": "code",
   "execution_count": 15,
   "metadata": {},
   "outputs": [
    {
     "name": "stdout",
     "output_type": "stream",
     "text": [
      "Hi fellows,\n",
      "Just do it!\n",
      "You are coming so far and you did that with your \"lider\" and your friends.\n",
      "And... It is the time...\n",
      "That develops some projects :)\n",
      "Be your real self and remember...\n",
      "\"Just do it!\"\n",
      "\n",
      "Not have good day, have a great day <3\n",
      "Take care\n"
     ]
    }
   ],
   "source": [
    "with open(\"readThisFile.txt\", \"r\", encoding=\"utf-8\") as file1:\n",
    "    print(file1.read())"
   ]
  },
  {
   "cell_type": "markdown",
   "metadata": {},
   "source": [
    "## Dosyayı ileri geri sarmak"
   ]
  },
  {
   "cell_type": "code",
   "execution_count": 18,
   "metadata": {},
   "outputs": [
    {
     "name": "stdout",
     "output_type": "stream",
     "text": [
      "6\n"
     ]
    }
   ],
   "source": [
    "with open(\"readThisFile.txt\", \"r\", encoding= \"utf-8\") as f:\n",
    "    f.seek(6)\n",
    "    print(f.tell())"
   ]
  },
  {
   "cell_type": "code",
   "execution_count": 19,
   "metadata": {},
   "outputs": [
    {
     "name": "stdout",
     "output_type": "stream",
     "text": [
      "Hi fellows,\n",
      "Just do it!\n",
      "You are coming so far and you did that with your \"lider\" and your friends.\n",
      "And... It is the time...\n",
      "That develops some projects :)\n",
      "Be your real self and remember...\n",
      "\"Just do it!\"\n",
      "\n",
      "Not have good day, have a great day <3\n",
      "Take care\n",
      "252\n"
     ]
    }
   ],
   "source": [
    "with open(\"readThisFile.txt\", \"r\", encoding= \"utf-8\") as f:\n",
    "    print(f.read())\n",
    "    print(f.tell())"
   ]
  },
  {
   "cell_type": "code",
   "execution_count": 26,
   "metadata": {},
   "outputs": [
    {
     "name": "stdout",
     "output_type": "stream",
     "text": [
      "14\n"
     ]
    }
   ],
   "source": [
    "with open(\"exfile.txt\", \"w\", encoding= \"utf-8\") as f:\n",
    "    f.seek(6)\n",
    "    print(f.write(\"this is a test\"))"
   ]
  },
  {
   "cell_type": "code",
   "execution_count": 39,
   "metadata": {},
   "outputs": [
    {
     "name": "stdout",
     "output_type": "stream",
     "text": [
      "<_io.TextIOWrapper name='writeToFile.txt' mode='r+' encoding='utf-8'>\n",
      "123\n",
      "on testing\n",
      "\n",
      "---\n",
      "on testing\n",
      "\n"
     ]
    }
   ],
   "source": [
    "with open(\"writeToFile.txt\", \"r+\", encoding= \"utf-8\") as f:\n",
    "    writing1 = f.write(\"123\\n\")\n",
    "    f.seek(6)\n",
    "    writing2 = f.write(\" testing\\n\")\n",
    "    print(f)\n",
    "    f.seek(0)\n",
    "    reading1 = f.read()\n",
    "    print(reading1)\n",
    "    print(\"---\")\n",
    "    f.seek(4)\n",
    "    reading2 = f.read()\n",
    "    print(reading2)"
   ]
  },
  {
   "cell_type": "markdown",
   "metadata": {},
   "source": [
    "## Dosyanın başında değişiklik yapmak"
   ]
  },
  {
   "cell_type": "code",
   "execution_count": 58,
   "metadata": {},
   "outputs": [
    {
     "name": "stdout",
     "output_type": "stream",
     "text": [
      "Test\n",
      "testing\n"
     ]
    }
   ],
   "source": [
    "with open(\"writeToFile.txt\",\"r+\",encoding=\"utf-8\") as f:\n",
    "    read1f = f.read()\n",
    "    read1f = \"Test\\n\" + read1f\n",
    "    f.seek(0)\n",
    "    f.write(read1f)\n",
    "    print(read1f)"
   ]
  },
  {
   "cell_type": "markdown",
   "metadata": {},
   "source": [
    "## Dosyanın ortasında değişiklik yapmak"
   ]
  },
  {
   "cell_type": "markdown",
   "metadata": {},
   "source": [
    "- `writelines()`\n",
    "- `insert`"
   ]
  },
  {
   "cell_type": "code",
   "execution_count": 62,
   "metadata": {},
   "outputs": [
    {
     "name": "stdout",
     "output_type": "stream",
     "text": [
      "\n"
     ]
    }
   ],
   "source": [
    "with open(\"writeToFile.txt\", \"r+\", encoding=\"utf-8\") as f:\n",
    "    l = f.readlines()\n",
    "    l.insert(3,\"for example\\n\")\n",
    "    f.seek(0)\n",
    "    f.writelines(l)"
   ]
  },
  {
   "cell_type": "code",
   "execution_count": 64,
   "metadata": {},
   "outputs": [
    {
     "name": "stdout",
     "output_type": "stream",
     "text": [
      "Test\n",
      "testing\n",
      "for example\n",
      "\n"
     ]
    }
   ],
   "source": [
    "with open(\"writeToFile.txt\", \"r+\", encoding=\"utf-8\") as f:\n",
    "    content = f.read()\n",
    "    print(content)"
   ]
  }
 ],
 "metadata": {
  "kernelspec": {
   "display_name": "Python 3",
   "language": "python",
   "name": "python3"
  },
  "language_info": {
   "codemirror_mode": {
    "name": "ipython",
    "version": 3
   },
   "file_extension": ".py",
   "mimetype": "text/x-python",
   "name": "python",
   "nbconvert_exporter": "python",
   "pygments_lexer": "ipython3",
   "version": "3.12.4"
  }
 },
 "nbformat": 4,
 "nbformat_minor": 2
}
