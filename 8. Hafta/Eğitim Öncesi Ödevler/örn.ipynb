{
 "cells": [
  {
   "cell_type": "code",
   "execution_count": null,
   "metadata": {},
   "outputs": [],
   "source": [
    "def kelime_degistir(eski_kelime, yeni_kelime):\n",
    "    with open(\"urunler.txt\", \"r\", encoding=\"utf-8\") as file:\n",
    "        lines = file.readlines()\n",
    "\n",
    "    with open(\"urunler.txt\", \"w\", encoding=\"utf-8\") as file:\n",
    "        for line in lines:\n",
    "            if eski_kelime in line:\n",
    "                line = line.replace(eski_kelime, yeni_kelime)\n",
    "            file.write(line)\n",
    "\n",
    "\n",
    "eski_kelime = input(\"Değiştirilecek kelimeyi giriniz: \")\n",
    "yeni_kelime = input(\"Yeni kelimeyi giriniz: \")\n",
    "\n",
    "kelime_degistir(eski_kelime, yeni_kelime)"
   ]
  }
 ],
 "metadata": {
  "language_info": {
   "name": "python"
  }
 },
 "nbformat": 4,
 "nbformat_minor": 2
}
