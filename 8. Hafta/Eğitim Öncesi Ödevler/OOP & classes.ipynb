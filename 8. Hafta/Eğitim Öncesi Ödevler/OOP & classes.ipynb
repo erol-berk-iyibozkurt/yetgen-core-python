{
 "cells": [
  {
   "cell_type": "markdown",
   "metadata": {},
   "source": [
    "# <center> Object-oriented programming (OOP)"
   ]
  },
  {
   "cell_type": "markdown",
   "metadata": {},
   "source": [
    "- Object-oriented programming (OOP) - Nesne yöenlimli Programlama\n",
    "- DRY (Don't Repeat Yourself) - Kendini Tekrar Etme"
   ]
  },
  {
   "cell_type": "markdown",
   "metadata": {},
   "source": [
    "# <center> Classes"
   ]
  },
  {
   "cell_type": "markdown",
   "metadata": {},
   "source": [
    "- Sınıflar veya Class yapıları objelerimizi oluştururken objelerin özelliklerini ve metodlarını tanımladığımız bir yapıdır."
   ]
  },
  {
   "cell_type": "code",
   "execution_count": 9,
   "metadata": {},
   "outputs": [],
   "source": [
    "class Car():\n",
    "    # sınıf özellikleri(Attribute)\n",
    "    model = \"Hyundai i20\"\n",
    "    color = \"sky blue\"\n",
    "    horsepower = 110\n",
    "    cylinder = 4"
   ]
  },
  {
   "cell_type": "markdown",
   "metadata": {},
   "source": [
    "Obje oluşturma"
   ]
  },
  {
   "cell_type": "markdown",
   "metadata": {},
   "source": [
    "`obje_ismi = sınıf_ismi(parametreler(opsiyonel))`"
   ]
  },
  {
   "cell_type": "markdown",
   "metadata": {},
   "source": [
    "Özelliklere erişme"
   ]
  },
  {
   "cell_type": "markdown",
   "metadata": {},
   "source": [
    "`obje_ismi.özellik_ismi`"
   ]
  },
  {
   "cell_type": "code",
   "execution_count": 10,
   "metadata": {},
   "outputs": [
    {
     "name": "stdout",
     "output_type": "stream",
     "text": [
      "Hyundai i20\n",
      "sky blue\n",
      "110\n",
      "4\n"
     ]
    }
   ],
   "source": [
    "car1 = Car()\n",
    "print(car1.model)\n",
    "print(car1.color)\n",
    "print(car1.horsepower)\n",
    "print(car1.cylinder)"
   ]
  },
  {
   "cell_type": "code",
   "execution_count": 5,
   "metadata": {},
   "outputs": [
    {
     "name": "stdout",
     "output_type": "stream",
     "text": [
      "Kuş\n"
     ]
    }
   ],
   "source": [
    "class animal():\n",
    "    name = \"Kuş\"\n",
    "    print(name)"
   ]
  },
  {
   "cell_type": "markdown",
   "metadata": {},
   "source": [
    "### init()"
   ]
  },
  {
   "cell_type": "markdown",
   "metadata": {},
   "source": [
    "- Python'da yapıcı (constructor) fonksiyon olarak tanımlanmaktadır. Bu metod objelerimiz oluşturulurken otomatik olarak ilk çağrılan fonksiyondur. Bu metodu özel olarak tanımlayarak objelerimizi farklı değerlerle oluşturabiliriz."
   ]
  },
  {
   "cell_type": "code",
   "execution_count": 11,
   "metadata": {},
   "outputs": [
    {
     "name": "stdout",
     "output_type": "stream",
     "text": [
      "init func is working\n"
     ]
    }
   ],
   "source": [
    "class Car():\n",
    "    def __init__(self):\n",
    "        print(\"init func is working\")\n",
    "\n",
    "car = Car()"
   ]
  },
  {
   "cell_type": "markdown",
   "metadata": {},
   "source": [
    "- Python --> self\n",
    "- Java, etc --> this"
   ]
  },
  {
   "cell_type": "markdown",
   "metadata": {},
   "source": [
    "- self anahtar kelimesiobjeyi oluşturduğumuz zaman o objeyi gösteren bir referanstır ve metodlarımızda en başta bulunması gereken bir parametredir."
   ]
  },
  {
   "cell_type": "code",
   "execution_count": 12,
   "metadata": {},
   "outputs": [],
   "source": [
    "class Car():\n",
    "    def __init__(self, model, color, horsepower, cylinder):\n",
    "        self.model = model\n",
    "        self.color = color\n",
    "        self.horsepower = horsepower\n",
    "        self.cylinder = cylinder "
   ]
  },
  {
   "cell_type": "code",
   "execution_count": 13,
   "metadata": {},
   "outputs": [
    {
     "name": "stdout",
     "output_type": "stream",
     "text": [
      "Nissan Navarra\n"
     ]
    }
   ],
   "source": [
    "car2 = Car(\"Nissan Navarra\", \"orange\", \"220\", \"6\")\n",
    "print(car2.model)"
   ]
  },
  {
   "cell_type": "markdown",
   "metadata": {},
   "source": [
    "### Test yourself"
   ]
  },
  {
   "cell_type": "markdown",
   "metadata": {},
   "source": [
    "- Comment isminde bir sınıf oluşturunuz.\n",
    "- Comment sınıfı username, text, likes, dislikes ismindeözelliklere sahip olsun.\n",
    "- 5 adet farklı comment oluşturup döngü yardımıyla yorumları ekrana yazdırınız."
   ]
  },
  {
   "cell_type": "code",
   "execution_count": 15,
   "metadata": {},
   "outputs": [
    {
     "name": "stdout",
     "output_type": "stream",
     "text": [
      "The comment \"I am learning python\" posted by Berkcan and had 100 likes and 7 dislikes.\n",
      "The comment \"We are together strong\" posted by Ahmet and had 110 likes and 5 dislikes.\n",
      "The comment \"Hello World!\" posted by John and had 200 likes and 30 dislikes.\n",
      "The comment \"YetGen devam ediyor\" posted by Fahri and had 150 likes and 1 dislikes.\n",
      "The comment \"Liderlerimiz bizim için çok çalışıyorlar\" posted by Jumper and had 500 likes and 0 dislikes.\n"
     ]
    }
   ],
   "source": [
    "class Comment():\n",
    "    def __init__(self, username, text, likes, dislikes):\n",
    "        self.username = username\n",
    "        self.text = text\n",
    "        self.likes = likes\n",
    "        self.dislikes = dislikes\n",
    "\n",
    "com1 = Comment(\"Berkcan\",\"I am learning python\", 100, 7)\n",
    "com2 = Comment(\"Ahmet\",\"We are together strong\", 110, 5)\n",
    "com3 = Comment(\"John\", \"Hello World!\", 200, 30)\n",
    "com4 = Comment(\"Fahri\", \"YetGen devam ediyor\", 150, 1)\n",
    "com5 = Comment(\"Jumper\", \"Liderlerimiz bizim için çok çalışıyorlar\", 500, 0)\n",
    "\n",
    "comments = list((com1,com2,com3,com4,com5))\n",
    "for com in comments:\n",
    "    print(f'The comment \"{com.text}\" posted by {com.username} and had {com.likes} likes and {com.dislikes} dislikes.')"
   ]
  }
 ],
 "metadata": {
  "kernelspec": {
   "display_name": "Python 3",
   "language": "python",
   "name": "python3"
  },
  "language_info": {
   "codemirror_mode": {
    "name": "ipython",
    "version": 3
   },
   "file_extension": ".py",
   "mimetype": "text/x-python",
   "name": "python",
   "nbconvert_exporter": "python",
   "pygments_lexer": "ipython3",
   "version": "3.12.4"
  }
 },
 "nbformat": 4,
 "nbformat_minor": 2
}
