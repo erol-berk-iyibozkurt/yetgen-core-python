{
  "cells": [
    {
      "cell_type": "markdown",
      "metadata": {
        "id": "xdJPVw8Qym8-"
      },
      "source": [
        " # Problem 2\n",
        " \n",
        "```test.txt``` dosyasını satır satır okuyun ve bir listede saklayınız. Daha sonra listeyi ekrana bastırınız."
      ]
    },
    {
      "cell_type": "code",
      "execution_count": 6,
      "metadata": {
        "id": "ERxLPkA1yqM9"
      },
      "outputs": [
        {
          "name": "stdout",
          "output_type": "stream",
          "text": [
            "['YetGen Python\\n', 'Jump\\n', 'Ders tarihi\\n', '15 Temmuz\\n']\n"
          ]
        }
      ],
      "source": [
        "l = []\n",
        "with open(\"test.txt\",\"r\",encoding=\"utf-8\") as f1:\n",
        "    read = f1.readlines()\n",
        "l =[]\n",
        "for i in read:\n",
        "    l.append(i)\n",
        "print(l)\n"
      ]
    },
    {
      "cell_type": "code",
      "execution_count": 7,
      "metadata": {},
      "outputs": [
        {
          "name": "stdout",
          "output_type": "stream",
          "text": [
            "['YetGen Python\\n', 'Jump\\n', 'Ders tarihi\\n', '15 Temmuz\\n']\n"
          ]
        }
      ],
      "source": [
        "f = open(\"test.txt\", \"r\", encoding= \"utf-8\")\n",
        "dene = f.readlines()\n",
        "l =[]\n",
        "for i in dene:\n",
        "    l.append(i)\n",
        "print(l)"
      ]
    }
  ],
  "metadata": {
    "colab": {
      "provenance": []
    },
    "kernelspec": {
      "display_name": "Python 3",
      "name": "python3"
    },
    "language_info": {
      "codemirror_mode": {
        "name": "ipython",
        "version": 3
      },
      "file_extension": ".py",
      "mimetype": "text/x-python",
      "name": "python",
      "nbconvert_exporter": "python",
      "pygments_lexer": "ipython3",
      "version": "3.12.4"
    }
  },
  "nbformat": 4,
  "nbformat_minor": 0
}
