{
 "cells": [
  {
   "cell_type": "markdown",
   "metadata": {},
   "source": [
    "\n",
    "#### YetGen Core Python programı için gereken sistem ve yazılımların kurulumu\n",
    "\n",
    "- Moodle'a giriş\n",
    "- Discord sunucusuna katılım\n",
    "- VS code yükleme\n",
    "- Git siteminin bilgisayara kurulumu\n",
    "- GitHub hesabı açıp GitHub desktop yükleme\n",
    "- Zoom'a kayıt olma\n"
   ]
  }
 ],
 "metadata": {
  "language_info": {
   "name": "python"
  }
 },
 "nbformat": 4,
 "nbformat_minor": 2
}
