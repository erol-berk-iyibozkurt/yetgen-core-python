{
 "cells": [
  {
   "cell_type": "code",
   "execution_count": null,
   "metadata": {},
   "outputs": [],
   "source": []
  },
  {
   "cell_type": "markdown",
   "metadata": {},
   "source": [
    "#### TR\n",
    "## Bu Hafta neler öğrendim?\n",
    "\n",
    "- Python'un kısa geçmişi ve özellikleri\n",
    "- Git kurulumu\n",
    "- VS code \n",
    "    - arayüz tanıma\n",
    "    - eklenti kurulumları\n",
    "    - GitHub ile senkronize kullanımı\n",
    "- GitHub\n",
    "    - ReadMe oluşturma ve önemi\n",
    "    - GitHub kullanımı\n",
    "    - GitHub Desktop kullanımı\n",
    "\n",
    "#### EN\n",
    "## What I learned this week?\n",
    "\n",
    "- The brief history of Python and features\n",
    "- Git setup\n",
    "- VS code\n",
    "    - intro to interface\n",
    "    - setup of extensions\n",
    "    - use of GitHub sync\n",
    "- GitHub\n",
    "    - the importance of ReadMe and creating for myself\n",
    "    - how to use GitHub\n",
    "    - how to use GitHub Desktop \n",
    "\n",
    "\n",
    "#### DE\n",
    "## Was habe ich diese Woche gelernt?\n",
    "\n",
    "- Die kurze Geschichte von Python und Eigenschaften\n",
    "- GitHub herunterladen und einstellen\n",
    "- VS code\n",
    "    - Einführung zu GitHub\n",
    "    - Installation der Extensions\n",
    "    - setzt GitHub ein, um zu synchronisieren\n",
    "- GitHub\n",
    "    - Die Wichtigkeit von ReadMe und erstellt für selbst\n",
    "    - die Benutzung von GitHub\n",
    "    - die Benutzung von GitHub Desktop"
   ]
  }
 ],
 "metadata": {
  "language_info": {
   "name": "python"
  }
 },
 "nbformat": 4,
 "nbformat_minor": 2
}
