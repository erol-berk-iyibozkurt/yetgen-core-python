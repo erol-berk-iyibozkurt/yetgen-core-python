{
 "cells": [
  {
   "cell_type": "code",
   "execution_count": null,
   "metadata": {},
   "outputs": [],
   "source": []
  },
  {
   "cell_type": "markdown",
   "metadata": {},
   "source": [
    "## Bu Hafta neler öğrendim?\n",
    "\n",
    "- Git kurulumu\n",
    "- Python'un geçmişi\n",
    "- VS code extensions kurulumları\n",
    "- GitHub\n",
    "    - ReadMe\n",
    "    - GitHub Desktop\n",
    "    - GitHub kullanımı"
   ]
  }
 ],
 "metadata": {
  "language_info": {
   "name": "python"
  }
 },
 "nbformat": 4,
 "nbformat_minor": 2
}
