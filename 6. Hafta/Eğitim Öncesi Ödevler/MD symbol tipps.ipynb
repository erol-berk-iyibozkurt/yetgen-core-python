{
 "cells": [
  {
   "cell_type": "markdown",
   "metadata": {},
   "source": [
    "- Make text ITALIC: *Italic*\n",
    "- Make text BOLD: **Bold**\n",
    "- List item as a bullet: dash and space -\n",
    "- List item as a number: Simple as number and dot 1.\n",
    "- Indenting text: Greater than and space >\n",
    "- Inline code span: Back quotation mark \" ` \"\n",
    "- Block of code: Triple back quotation marks \" ``` \"\n",
    "- Link a section: [Title of Section](#title-of-section)\n",
    "- Hyperlink: [Text](URL)"
   ]
  }
 ],
 "metadata": {
  "kernelspec": {
   "display_name": "Python 3",
   "language": "python",
   "name": "python3"
  },
  "language_info": {
   "name": "python",
   "version": "3.12.4"
  }
 },
 "nbformat": 4,
 "nbformat_minor": 2
}
