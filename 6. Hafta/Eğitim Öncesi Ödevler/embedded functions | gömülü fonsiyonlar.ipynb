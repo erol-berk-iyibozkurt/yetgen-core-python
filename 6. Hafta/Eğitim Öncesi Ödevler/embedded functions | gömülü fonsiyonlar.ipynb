{
 "cells": [
  {
   "cell_type": "markdown",
   "metadata": {},
   "source": [
    "# <center> embedded Function | Gömülü Fonksiyonlar"
   ]
  },
  {
   "cell_type": "markdown",
   "metadata": {},
   "source": [
    "- map(fonksiyon, iterasyon yapılabilecek veri tipi) <br>\n",
    "aldığı fonksiyonun parametrelerini sırasıyla liste içersindeki elemanları parametre olarak gönderir."
   ]
  },
  {
   "cell_type": "code",
   "execution_count": 2,
   "metadata": {},
   "outputs": [
    {
     "name": "stdout",
     "output_type": "stream",
     "text": [
      "[4, 64, 256, 1024, 4096]\n"
     ]
    }
   ],
   "source": [
    "numbers = [2,8,16,32,64]\n",
    "powers = []\n",
    "def power_of(x):\n",
    "    return x**2\n",
    "powers = list(map(power_of,numbers))\n",
    "print(powers)"
   ]
  },
  {
   "cell_type": "code",
   "execution_count": 5,
   "metadata": {},
   "outputs": [
    {
     "data": {
      "text/plain": [
       "[35, 50, 65]"
      ]
     },
     "execution_count": 5,
     "metadata": {},
     "output_type": "execute_result"
    }
   ],
   "source": [
    "l1 = [5,10,15]\n",
    "l2 = [10,15,20]\n",
    "l3 = [20,25,30]\n",
    "list(map(lambda x, y, z : x + y + z, l1, l2, l3))"
   ]
  },
  {
   "cell_type": "markdown",
   "metadata": {},
   "source": [
    "- filter(fonksiyon, iterasyon yapılabilecek veri tipi) <br>\n",
    "filtreleme yapar"
   ]
  },
  {
   "cell_type": "code",
   "execution_count": 8,
   "metadata": {},
   "outputs": [
    {
     "data": {
      "text/plain": [
       "[0, 2, 4, 6, 8, 10]"
      ]
     },
     "execution_count": 8,
     "metadata": {},
     "output_type": "execute_result"
    }
   ],
   "source": [
    "list(filter(lambda x : x % 2 == 0, [0,1,2,3,4,5,6,7,8,9,10]))"
   ]
  },
  {
   "cell_type": "code",
   "execution_count": 20,
   "metadata": {},
   "outputs": [
    {
     "name": "stdout",
     "output_type": "stream",
     "text": [
      "True\n",
      "False\n",
      "[2, 3, 5, 7, 11, 13, 17, 19, 23, 29]\n"
     ]
    }
   ],
   "source": [
    "def prime_num(num):\n",
    "    i = 2\n",
    "    if num == 2:\n",
    "        return True\n",
    "    elif num == 1:\n",
    "        return False\n",
    "    else:\n",
    "        while i < num:\n",
    "            if num % i == 0:\n",
    "                return False\n",
    "            i += 1\n",
    "    return True\n",
    "print(prime_num(11))\n",
    "print(prime_num(12))\n",
    "print(list(filter(prime_num,range(1,30))))"
   ]
  },
  {
   "cell_type": "markdown",
   "metadata": {},
   "source": [
    "- zip(iterasyon yapılabilecek veri tipi) <br>\n",
    "listelerdeki elemanları birleştirmek için kullanılıyor"
   ]
  },
  {
   "cell_type": "code",
   "execution_count": 23,
   "metadata": {},
   "outputs": [
    {
     "data": {
      "text/plain": [
       "[(1, 'one', 'bir'), (2, 'two', 'iki'), (3, 'three', 'üç'), (4, 'four', 'dört')]"
      ]
     },
     "execution_count": 23,
     "metadata": {},
     "output_type": "execute_result"
    }
   ],
   "source": [
    "l1 = [1,2,3,4]\n",
    "l2 = [\"one\", \"two\", \"three\", \"four\"]\n",
    "l3 = [\"bir\", \"iki\",\"üç\",\"dört\"]\n",
    "list(zip(l1,l2,l3))"
   ]
  },
  {
   "cell_type": "code",
   "execution_count": 24,
   "metadata": {},
   "outputs": [
    {
     "data": {
      "text/plain": [
       "[('Elma', 'apple'), ('Armut', 'pear'), ('Kiraz', 'cherry')]"
      ]
     },
     "execution_count": 24,
     "metadata": {},
     "output_type": "execute_result"
    }
   ],
   "source": [
    "dict1 = {\"Elma\" : 1, \"Armut\" : 2, \"Kiraz\" : 3}\n",
    "dict2 = {\"apple\" : 0, \"pear\" : 1, \"cherry\" : 2}\n",
    "list(zip(dict1,dict2))"
   ]
  },
  {
   "cell_type": "code",
   "execution_count": 26,
   "metadata": {},
   "outputs": [
    {
     "data": {
      "text/plain": [
       "[('Elma', 'apple'), ('Armut', 'pear'), ('Kiraz', 'cherry')]"
      ]
     },
     "execution_count": 26,
     "metadata": {},
     "output_type": "execute_result"
    }
   ],
   "source": [
    "dict3 = {\"Elma\" : \"bir\", \"Armut\" : \"iki\", \"Kiraz\" : \"üç\"}\n",
    "dict4 = {\"apple\" : \"dört\", \"pear\" : \"beş\", \"cherry\" : \"altı\"}\n",
    "list(zip(dict3,dict4))"
   ]
  },
  {
   "cell_type": "markdown",
   "metadata": {},
   "source": [
    "- enumerate() <br>\n",
    "eng : numaralandırma <br>\n",
    "nesneleri numaralandırma"
   ]
  },
  {
   "cell_type": "code",
   "execution_count": 29,
   "metadata": {},
   "outputs": [
    {
     "data": {
      "text/plain": [
       "[(0, 'car'), (1, 'airplane'), (2, 'bicycle'), (3, 'bus')]"
      ]
     },
     "execution_count": 29,
     "metadata": {},
     "output_type": "execute_result"
    }
   ],
   "source": [
    "l0 = [\"car\",\"airplane\", \"bicycle\", \"bus\"]\n",
    "list(enumerate(l0))"
   ]
  },
  {
   "cell_type": "markdown",
   "metadata": {},
   "source": [
    "- all() <br>\n",
    "bütün değerler \"True\"sa True, en az bir değer \"False\"sa False sonucunu verir."
   ]
  },
  {
   "cell_type": "code",
   "execution_count": 33,
   "metadata": {},
   "outputs": [
    {
     "name": "stdout",
     "output_type": "stream",
     "text": [
      "False\n",
      "True\n",
      "False\n"
     ]
    }
   ],
   "source": [
    "list8 = [True, True, False]\n",
    "list9 = [True,True,True]\n",
    "list10 = [False,False,False]\n",
    "print(all(list8))\n",
    "print(all(list9))\n",
    "print(all(list10))"
   ]
  },
  {
   "cell_type": "markdown",
   "metadata": {},
   "source": [
    "- any()\n",
    "bütün değerler \"False\"sa False , en az bir değer \"True\"sa True sonucunu verir."
   ]
  },
  {
   "cell_type": "code",
   "execution_count": 35,
   "metadata": {},
   "outputs": [
    {
     "name": "stdout",
     "output_type": "stream",
     "text": [
      "True\n",
      "True\n",
      "False\n"
     ]
    }
   ],
   "source": [
    "list8 = [True, True, False]\n",
    "list9 = [True,True,True]\n",
    "list10 = [False,False,False]\n",
    "print(any(list8))\n",
    "print(any(list9))\n",
    "print(any(list10))"
   ]
  },
  {
   "cell_type": "code",
   "execution_count": null,
   "metadata": {},
   "outputs": [],
   "source": []
  }
 ],
 "metadata": {
  "kernelspec": {
   "display_name": "Python 3",
   "language": "python",
   "name": "python3"
  },
  "language_info": {
   "codemirror_mode": {
    "name": "ipython",
    "version": 3
   },
   "file_extension": ".py",
   "mimetype": "text/x-python",
   "name": "python",
   "nbconvert_exporter": "python",
   "pygments_lexer": "ipython3",
   "version": "3.12.4"
  }
 },
 "nbformat": 4,
 "nbformat_minor": 2
}
