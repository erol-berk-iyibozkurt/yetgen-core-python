{
 "cells": [
  {
   "cell_type": "markdown",
   "metadata": {},
   "source": []
  },
  {
   "cell_type": "code",
   "execution_count": 1,
   "metadata": {},
   "outputs": [
    {
     "ename": "NameError",
     "evalue": "name 'a' is not defined",
     "output_type": "error",
     "traceback": [
      "\u001b[0;31m---------------------------------------------------------------------------\u001b[0m",
      "\u001b[0;31mNameError\u001b[0m                                 Traceback (most recent call last)",
      "Cell \u001b[0;32mIn[1], line 1\u001b[0m\n\u001b[0;32m----> 1\u001b[0m \u001b[38;5;28mprint\u001b[39m(\u001b[43ma\u001b[49m)\n",
      "\u001b[0;31mNameError\u001b[0m: name 'a' is not defined"
     ]
    }
   ],
   "source": [
    "print(a)"
   ]
  },
  {
   "cell_type": "code",
   "execution_count": 2,
   "metadata": {},
   "outputs": [
    {
     "ename": "ZeroDivisionError",
     "evalue": "division by zero",
     "output_type": "error",
     "traceback": [
      "\u001b[0;31m---------------------------------------------------------------------------\u001b[0m",
      "\u001b[0;31mZeroDivisionError\u001b[0m                         Traceback (most recent call last)",
      "Cell \u001b[0;32mIn[2], line 1\u001b[0m\n\u001b[0;32m----> 1\u001b[0m \u001b[38;5;28mprint\u001b[39m(\u001b[38;5;241;43m2\u001b[39;49m\u001b[38;5;241;43m/\u001b[39;49m\u001b[38;5;241;43m0\u001b[39;49m)\n",
      "\u001b[0;31mZeroDivisionError\u001b[0m: division by zero"
     ]
    }
   ],
   "source": [
    "print(2/0)"
   ]
  },
  {
   "cell_type": "code",
   "execution_count": 3,
   "metadata": {},
   "outputs": [
    {
     "ename": "SyntaxError",
     "evalue": "Missing parentheses in call to 'print'. Did you mean print(...)? (3583445538.py, line 1)",
     "output_type": "error",
     "traceback": [
      "\u001b[0;36m  Cell \u001b[0;32mIn[3], line 1\u001b[0;36m\u001b[0m\n\u001b[0;31m    print \"Hello\"\u001b[0m\n\u001b[0m    ^\u001b[0m\n\u001b[0;31mSyntaxError\u001b[0m\u001b[0;31m:\u001b[0m Missing parentheses in call to 'print'. Did you mean print(...)?\n"
     ]
    }
   ],
   "source": [
    "print \"Hello\""
   ]
  },
  {
   "cell_type": "markdown",
   "metadata": {},
   "source": [
    "- try: <br>\n",
    "Hata çikarabilecek kodlar buraya yazılıyor <br>\n",
    "Eger hata çukarsa program uygun olan except bloğuna girecek. <br>\n",
    "Hata oluşursa try blogunun geri kalanandaki işlemler çalışmayacak"
   ]
  },
  {
   "cell_type": "markdown",
   "metadata": {},
   "source": [
    "- except:<br>\n",
    "except Hata1: <br>\n",
    "Hata1 oluştuğunda burası çalışacak. <br>\n",
    "except Hata2: <br>\n",
    "Hata2 oluştuğunda burası çalışacak."
   ]
  },
  {
   "cell_type": "code",
   "execution_count": 5,
   "metadata": {},
   "outputs": [
    {
     "ename": "ValueError",
     "evalue": "invalid literal for int() with base 10: 'abcd'",
     "output_type": "error",
     "traceback": [
      "\u001b[0;31m---------------------------------------------------------------------------\u001b[0m",
      "\u001b[0;31mValueError\u001b[0m                                Traceback (most recent call last)",
      "Cell \u001b[0;32mIn[5], line 1\u001b[0m\n\u001b[0;32m----> 1\u001b[0m a \u001b[38;5;241m=\u001b[39m \u001b[38;5;28;43mint\u001b[39;49m\u001b[43m(\u001b[49m\u001b[38;5;124;43m\"\u001b[39;49m\u001b[38;5;124;43mabcd\u001b[39;49m\u001b[38;5;124;43m\"\u001b[39;49m\u001b[43m)\u001b[49m\n\u001b[1;32m      2\u001b[0m \u001b[38;5;28mprint\u001b[39m(a)\n",
      "\u001b[0;31mValueError\u001b[0m: invalid literal for int() with base 10: 'abcd'"
     ]
    }
   ],
   "source": [
    "a = int(\"abcd\")\n",
    "print(a)"
   ]
  },
  {
   "cell_type": "code",
   "execution_count": 6,
   "metadata": {},
   "outputs": [
    {
     "name": "stdout",
     "output_type": "stream",
     "text": [
      "Hata oluştu\n"
     ]
    }
   ],
   "source": [
    "try:\n",
    "    a = int(\"abcd\")\n",
    "    print(\"Program burada\")\n",
    "except:\n",
    "    print(\"Hata oluştu\")"
   ]
  },
  {
   "cell_type": "code",
   "execution_count": 7,
   "metadata": {},
   "outputs": [
    {
     "name": "stdout",
     "output_type": "stream",
     "text": [
      "Hata oluştu\n",
      "Bloklar sona erdi\n"
     ]
    }
   ],
   "source": [
    "try:\n",
    "    a = int(\"abcd\")\n",
    "    print(\"Program burada\")\n",
    "except ValueError:\n",
    "    print(\"Hata oluştu\")\n",
    "print(\"Bloklar sona erdi\")"
   ]
  },
  {
   "cell_type": "code",
   "execution_count": 9,
   "metadata": {},
   "outputs": [
    {
     "name": "stdout",
     "output_type": "stream",
     "text": [
      "Please, give a proper value.\n"
     ]
    }
   ],
   "source": [
    "try:\n",
    "    a = int(input(\"num1: \"))\n",
    "    b = int(input(\"num2: \"))\n",
    "    print(a / b)\n",
    "except ValueError:\n",
    "    print(\"Please, give a proper value.\")\n",
    "except ZeroDivisionError:\n",
    "    print(\"Numbers can not divided by zero\")"
   ]
  },
  {
   "cell_type": "code",
   "execution_count": 11,
   "metadata": {},
   "outputs": [
    {
     "name": "stdout",
     "output_type": "stream",
     "text": [
      "ValueError or ZeroDivisionError\n"
     ]
    }
   ],
   "source": [
    "try:\n",
    "    a = int(input(\"num1: \"))\n",
    "    b = int(input(\"num2: \"))\n",
    "    print(a / b)\n",
    "except (ValueError,ZeroDivisionError):\n",
    "    print(\"ValueError or ZeroDivisionError\")\n"
   ]
  },
  {
   "cell_type": "markdown",
   "metadata": {},
   "source": [
    "- Try, Except, Else <br>\n",
    "<br>\n",
    "\"try\" içinde hata olursa \"except\" bloğuna girer <br>\n",
    "\"try\" içinde hata olursa \"else\" bloğuna girer"
   ]
  },
  {
   "cell_type": "code",
   "execution_count": 12,
   "metadata": {},
   "outputs": [
    {
     "ename": "IndentationError",
     "evalue": "expected an indented block after 'try' statement on line 1 (1921031542.py, line 3)",
     "output_type": "error",
     "traceback": [
      "\u001b[0;36m  Cell \u001b[0;32mIn[12], line 3\u001b[0;36m\u001b[0m\n\u001b[0;31m    except '''Hata1''':\u001b[0m\n\u001b[0m    ^\u001b[0m\n\u001b[0;31mIndentationError\u001b[0m\u001b[0;31m:\u001b[0m expected an indented block after 'try' statement on line 1\n"
     ]
    }
   ],
   "source": [
    "try:\n",
    "    #hata olşabilecek kodlar\n",
    "except '''Hata1''':\n",
    "    # Hata olursa çalışacak blok\n",
    "else:\n",
    "    # Hata olmazsa çalışacak blok\n"
   ]
  },
  {
   "cell_type": "code",
   "execution_count": 22,
   "metadata": {},
   "outputs": [
    {
     "name": "stdout",
     "output_type": "stream",
     "text": [
      "Numbers can not divided by zero\n"
     ]
    }
   ],
   "source": [
    "try:\n",
    "    a = int(input(\"num1: \"))\n",
    "    b = int(input(\"num2: \"))\n",
    "    print(a / b)\n",
    "except ValueError:\n",
    "    print(\"Please, give a proper value.\")\n",
    "except ZeroDivisionError:\n",
    "    print(\"Numbers can not divided by zero\")\n",
    "else:\n",
    "    print(\"Program sona erdi\")"
   ]
  },
  {
   "cell_type": "code",
   "execution_count": 14,
   "metadata": {},
   "outputs": [
    {
     "name": "stdout",
     "output_type": "stream",
     "text": [
      "a = 5\n",
      "b = 4\n",
      "a + b = 9\n"
     ]
    }
   ],
   "source": [
    "try:\n",
    "    a = int(input(\"num1: \"))\n",
    "    b = int(input(\"num2: \"))\n",
    "except ValueError:\n",
    "    print(\"Please, give a proper value.\")\n",
    "except ZeroDivisionError:\n",
    "    print(\"Numbers can not divided by zero\")\n",
    "else:\n",
    "    print(f\"a = {a}\")\n",
    "    print(f\"b = {b}\")\n",
    "    print(f\"a + b = {a+b}\")"
   ]
  },
  {
   "cell_type": "markdown",
   "metadata": {},
   "source": [
    "- Try, Except Finally <br>\n",
    "<br>\n",
    "Hata verince de çalışıyor. \"Else\"e göre farkı bu. <br>\n",
    "Her zaman çalışıyor"
   ]
  },
  {
   "cell_type": "code",
   "execution_count": 21,
   "metadata": {},
   "outputs": [
    {
     "name": "stdout",
     "output_type": "stream",
     "text": [
      "Numbers can not divided by zero\n",
      "Program sona erdi\n"
     ]
    }
   ],
   "source": [
    "try:\n",
    "    a = int(input(\"num1: \"))\n",
    "    b = int(input(\"num2: \"))\n",
    "    print(a / b)\n",
    "except ValueError:\n",
    "    print(\"Please, give a proper value.\")\n",
    "except ZeroDivisionError:\n",
    "    print(\"Numbers can not divided by zero\")\n",
    "finally:\n",
    "    print(\"Program sona erdi\")"
   ]
  },
  {
   "cell_type": "code",
   "execution_count": 24,
   "metadata": {},
   "outputs": [
    {
     "name": "stdout",
     "output_type": "stream",
     "text": [
      "Hata oluştu\n",
      "100\n"
     ]
    }
   ],
   "source": [
    "try:\n",
    "    l12 = list(range(100))\n",
    "    print(l12[101])\n",
    "except:\n",
    "    print(\"Hata oluştu\")\n",
    "finally:\n",
    "    l12.clear\n",
    "print(len(l12))"
   ]
  },
  {
   "cell_type": "markdown",
   "metadata": {},
   "source": [
    "- Hata Fırlatma <br>\n",
    "\n",
    "raise kullanılarak "
   ]
  },
  {
   "cell_type": "code",
   "execution_count": 25,
   "metadata": {},
   "outputs": [
    {
     "name": "stdout",
     "output_type": "stream",
     "text": [
      "Programda hata oluştu\n"
     ]
    }
   ],
   "source": [
    "def tersCevir(s):\n",
    "    if (type(s) != str):\n",
    "        raise ValueError(\"Lütfen doğru bir input giriniz\")\n",
    "    else:\n",
    "        return s[::-1]\n",
    "try:\n",
    "    print(tersCevir(12))\n",
    "except ValueError:\n",
    "    print(\"Programda hata oluştu\")\n"
   ]
  }
 ],
 "metadata": {
  "kernelspec": {
   "display_name": "Python 3",
   "language": "python",
   "name": "python3"
  },
  "language_info": {
   "codemirror_mode": {
    "name": "ipython",
    "version": 3
   },
   "file_extension": ".py",
   "mimetype": "text/x-python",
   "name": "python",
   "nbconvert_exporter": "python",
   "pygments_lexer": "ipython3",
   "version": "3.12.4"
  }
 },
 "nbformat": 4,
 "nbformat_minor": 2
}
