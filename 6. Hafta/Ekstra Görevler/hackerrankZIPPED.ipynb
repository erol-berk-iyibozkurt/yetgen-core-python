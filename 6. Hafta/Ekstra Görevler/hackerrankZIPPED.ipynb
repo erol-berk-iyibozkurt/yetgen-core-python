{
 "cells": [
  {
   "cell_type": "code",
   "execution_count": null,
   "metadata": {},
   "outputs": [],
   "source": []
  },
  {
   "cell_type": "markdown",
   "metadata": {},
   "source": [
    "Input:\n",
    "5 3\n",
    "89 90 78 93 80\n",
    "90 91 85 88 86  \n",
    "91 92 83 89 90.5\n",
    "\n",
    "Expected Output:\n",
    "90.0\n",
    "91.0\n",
    "82.0\n",
    "90.0\n",
    "85.5"
   ]
  },
  {
   "cell_type": "code",
   "execution_count": 1,
   "metadata": {},
   "outputs": [
    {
     "ename": "ValueError",
     "evalue": "too many values to unpack (expected 2)",
     "output_type": "error",
     "traceback": [
      "\u001b[0;31m---------------------------------------------------------------------------\u001b[0m",
      "\u001b[0;31mValueError\u001b[0m                                Traceback (most recent call last)",
      "Cell \u001b[0;32mIn[1], line 1\u001b[0m\n\u001b[0;32m----> 1\u001b[0m a, b \u001b[38;5;241m=\u001b[39m \u001b[38;5;28mmap\u001b[39m(\u001b[38;5;28mint\u001b[39m, \u001b[38;5;28minput\u001b[39m()\u001b[38;5;241m.\u001b[39msplit())\n\u001b[1;32m      2\u001b[0m \u001b[38;5;66;03m# a equals to students' id\u001b[39;00m\n\u001b[1;32m      3\u001b[0m \u001b[38;5;66;03m#b equals to number of subjects\u001b[39;00m\n\u001b[1;32m      4\u001b[0m \u001b[38;5;66;03m# input().split() divided inputs in this case a and b can be defined.\u001b[39;00m\n\u001b[1;32m      5\u001b[0m \u001b[38;5;66;03m#map variable a and b change to the type of int\u001b[39;00m\n\u001b[1;32m      7\u001b[0m scores \u001b[38;5;241m=\u001b[39m []\n",
      "\u001b[0;31mValueError\u001b[0m: too many values to unpack (expected 2)"
     ]
    }
   ],
   "source": [
    "a, b = map(int, input().split())\n",
    "# a equals to students' id\n",
    "#b equals to number of subjects\n",
    "# input().split() divided inputs in this case a and b can be defined.\n",
    "#map variable a and b change to the type of int\n",
    "\n",
    "scores = []\n",
    "for _ in range(b):\n",
    "# return iterables the number of b (subjects) times\n",
    "    scores.append(list(map(float, input().split())))\n",
    "    # take inputs from user by input()\n",
    "    #all scores split by .split()\n",
    "    # all item will be float via map(float, ...)\n",
    "    grades = zip(*scores)\n",
    "    #match the scores and students (fbasically for the number of the students)\n",
    "for student in grades:\n",
    "    print(\"{:.1f}\".format(sum(student) / b))\n",
    "    #\"{:.1f}\".format() is for after dot 1 digit format\n",
    "    # sum() / b equals the averageof th student \n"
   ]
  },
  {
   "cell_type": "markdown",
   "metadata": {},
   "source": [
    "https://www.hackerrank.com/challenges/zipped/problem?isFullScreen=true"
   ]
  }
 ],
 "metadata": {
  "kernelspec": {
   "display_name": "Python 3",
   "language": "python",
   "name": "python3"
  },
  "language_info": {
   "codemirror_mode": {
    "name": "ipython",
    "version": 3
   },
   "file_extension": ".py",
   "mimetype": "text/x-python",
   "name": "python",
   "nbconvert_exporter": "python",
   "pygments_lexer": "ipython3",
   "version": "3.12.4"
  }
 },
 "nbformat": 4,
 "nbformat_minor": 2
}
